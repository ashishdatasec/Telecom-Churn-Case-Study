{
 "cells": [
  {
   "cell_type": "code",
   "execution_count": 1,
   "id": "c12e9e3b",
   "metadata": {},
   "outputs": [],
   "source": [
    "# import libary\n",
    "import numpy as np\n",
    "import pandas as pd\n",
    "import matplotlib.pyplot as plt\n",
    "import seaborn as sns\n",
    "%matplotlib inline\n",
    "\n",
    "from sklearn.decomposition import PCA\n",
    "from sklearn.preprocessing import StandardScaler\n",
    "from sklearn.decomposition import IncrementalPCA\n",
    "\n",
    "from sklearn.linear_model import LogisticRegression\n",
    "from sklearn import metrics\n",
    "\n",
    "from sklearn.metrics import classification_report\n",
    "from sklearn.metrics import confusion_matrix\n",
    "\n",
    "# To ignore warnings\n",
    "import warnings\n",
    "warnings.filterwarnings(\"ignore\")"
   ]
  },
  {
   "cell_type": "code",
   "execution_count": 2,
   "id": "74b9ed07",
   "metadata": {},
   "outputs": [
    {
     "data": {
      "text/html": [
       "<div>\n",
       "<style scoped>\n",
       "    .dataframe tbody tr th:only-of-type {\n",
       "        vertical-align: middle;\n",
       "    }\n",
       "\n",
       "    .dataframe tbody tr th {\n",
       "        vertical-align: top;\n",
       "    }\n",
       "\n",
       "    .dataframe thead th {\n",
       "        text-align: right;\n",
       "    }\n",
       "</style>\n",
       "<table border=\"1\" class=\"dataframe\">\n",
       "  <thead>\n",
       "    <tr style=\"text-align: right;\">\n",
       "      <th></th>\n",
       "      <th>mobile_number</th>\n",
       "      <th>circle_id</th>\n",
       "      <th>loc_og_t2o_mou</th>\n",
       "      <th>std_og_t2o_mou</th>\n",
       "      <th>loc_ic_t2o_mou</th>\n",
       "      <th>last_date_of_month_6</th>\n",
       "      <th>last_date_of_month_7</th>\n",
       "      <th>last_date_of_month_8</th>\n",
       "      <th>last_date_of_month_9</th>\n",
       "      <th>arpu_6</th>\n",
       "      <th>...</th>\n",
       "      <th>sachet_3g_9</th>\n",
       "      <th>fb_user_6</th>\n",
       "      <th>fb_user_7</th>\n",
       "      <th>fb_user_8</th>\n",
       "      <th>fb_user_9</th>\n",
       "      <th>aon</th>\n",
       "      <th>aug_vbc_3g</th>\n",
       "      <th>jul_vbc_3g</th>\n",
       "      <th>jun_vbc_3g</th>\n",
       "      <th>sep_vbc_3g</th>\n",
       "    </tr>\n",
       "  </thead>\n",
       "  <tbody>\n",
       "    <tr>\n",
       "      <th>0</th>\n",
       "      <td>7000842753</td>\n",
       "      <td>109</td>\n",
       "      <td>0.0</td>\n",
       "      <td>0.0</td>\n",
       "      <td>0.0</td>\n",
       "      <td>6/30/2014</td>\n",
       "      <td>7/31/2014</td>\n",
       "      <td>8/31/2014</td>\n",
       "      <td>9/30/2014</td>\n",
       "      <td>197.385</td>\n",
       "      <td>...</td>\n",
       "      <td>0</td>\n",
       "      <td>1.0</td>\n",
       "      <td>1.0</td>\n",
       "      <td>1.0</td>\n",
       "      <td>NaN</td>\n",
       "      <td>968</td>\n",
       "      <td>30.4</td>\n",
       "      <td>0.0</td>\n",
       "      <td>101.20</td>\n",
       "      <td>3.58</td>\n",
       "    </tr>\n",
       "    <tr>\n",
       "      <th>1</th>\n",
       "      <td>7001865778</td>\n",
       "      <td>109</td>\n",
       "      <td>0.0</td>\n",
       "      <td>0.0</td>\n",
       "      <td>0.0</td>\n",
       "      <td>6/30/2014</td>\n",
       "      <td>7/31/2014</td>\n",
       "      <td>8/31/2014</td>\n",
       "      <td>9/30/2014</td>\n",
       "      <td>34.047</td>\n",
       "      <td>...</td>\n",
       "      <td>0</td>\n",
       "      <td>NaN</td>\n",
       "      <td>1.0</td>\n",
       "      <td>1.0</td>\n",
       "      <td>NaN</td>\n",
       "      <td>1006</td>\n",
       "      <td>0.0</td>\n",
       "      <td>0.0</td>\n",
       "      <td>0.00</td>\n",
       "      <td>0.00</td>\n",
       "    </tr>\n",
       "    <tr>\n",
       "      <th>2</th>\n",
       "      <td>7001625959</td>\n",
       "      <td>109</td>\n",
       "      <td>0.0</td>\n",
       "      <td>0.0</td>\n",
       "      <td>0.0</td>\n",
       "      <td>6/30/2014</td>\n",
       "      <td>7/31/2014</td>\n",
       "      <td>8/31/2014</td>\n",
       "      <td>9/30/2014</td>\n",
       "      <td>167.690</td>\n",
       "      <td>...</td>\n",
       "      <td>0</td>\n",
       "      <td>NaN</td>\n",
       "      <td>NaN</td>\n",
       "      <td>NaN</td>\n",
       "      <td>1.0</td>\n",
       "      <td>1103</td>\n",
       "      <td>0.0</td>\n",
       "      <td>0.0</td>\n",
       "      <td>4.17</td>\n",
       "      <td>0.00</td>\n",
       "    </tr>\n",
       "    <tr>\n",
       "      <th>3</th>\n",
       "      <td>7001204172</td>\n",
       "      <td>109</td>\n",
       "      <td>0.0</td>\n",
       "      <td>0.0</td>\n",
       "      <td>0.0</td>\n",
       "      <td>6/30/2014</td>\n",
       "      <td>7/31/2014</td>\n",
       "      <td>8/31/2014</td>\n",
       "      <td>9/30/2014</td>\n",
       "      <td>221.338</td>\n",
       "      <td>...</td>\n",
       "      <td>0</td>\n",
       "      <td>NaN</td>\n",
       "      <td>NaN</td>\n",
       "      <td>NaN</td>\n",
       "      <td>NaN</td>\n",
       "      <td>2491</td>\n",
       "      <td>0.0</td>\n",
       "      <td>0.0</td>\n",
       "      <td>0.00</td>\n",
       "      <td>0.00</td>\n",
       "    </tr>\n",
       "    <tr>\n",
       "      <th>4</th>\n",
       "      <td>7000142493</td>\n",
       "      <td>109</td>\n",
       "      <td>0.0</td>\n",
       "      <td>0.0</td>\n",
       "      <td>0.0</td>\n",
       "      <td>6/30/2014</td>\n",
       "      <td>7/31/2014</td>\n",
       "      <td>8/31/2014</td>\n",
       "      <td>9/30/2014</td>\n",
       "      <td>261.636</td>\n",
       "      <td>...</td>\n",
       "      <td>0</td>\n",
       "      <td>0.0</td>\n",
       "      <td>NaN</td>\n",
       "      <td>NaN</td>\n",
       "      <td>NaN</td>\n",
       "      <td>1526</td>\n",
       "      <td>0.0</td>\n",
       "      <td>0.0</td>\n",
       "      <td>0.00</td>\n",
       "      <td>0.00</td>\n",
       "    </tr>\n",
       "  </tbody>\n",
       "</table>\n",
       "<p>5 rows × 226 columns</p>\n",
       "</div>"
      ],
      "text/plain": [
       "   mobile_number  circle_id  loc_og_t2o_mou  std_og_t2o_mou  loc_ic_t2o_mou  \\\n",
       "0     7000842753        109             0.0             0.0             0.0   \n",
       "1     7001865778        109             0.0             0.0             0.0   \n",
       "2     7001625959        109             0.0             0.0             0.0   \n",
       "3     7001204172        109             0.0             0.0             0.0   \n",
       "4     7000142493        109             0.0             0.0             0.0   \n",
       "\n",
       "  last_date_of_month_6 last_date_of_month_7 last_date_of_month_8  \\\n",
       "0            6/30/2014            7/31/2014            8/31/2014   \n",
       "1            6/30/2014            7/31/2014            8/31/2014   \n",
       "2            6/30/2014            7/31/2014            8/31/2014   \n",
       "3            6/30/2014            7/31/2014            8/31/2014   \n",
       "4            6/30/2014            7/31/2014            8/31/2014   \n",
       "\n",
       "  last_date_of_month_9   arpu_6  ...  sachet_3g_9  fb_user_6  fb_user_7  \\\n",
       "0            9/30/2014  197.385  ...            0        1.0        1.0   \n",
       "1            9/30/2014   34.047  ...            0        NaN        1.0   \n",
       "2            9/30/2014  167.690  ...            0        NaN        NaN   \n",
       "3            9/30/2014  221.338  ...            0        NaN        NaN   \n",
       "4            9/30/2014  261.636  ...            0        0.0        NaN   \n",
       "\n",
       "   fb_user_8  fb_user_9   aon  aug_vbc_3g  jul_vbc_3g  jun_vbc_3g  sep_vbc_3g  \n",
       "0        1.0        NaN   968        30.4         0.0      101.20        3.58  \n",
       "1        1.0        NaN  1006         0.0         0.0        0.00        0.00  \n",
       "2        NaN        1.0  1103         0.0         0.0        4.17        0.00  \n",
       "3        NaN        NaN  2491         0.0         0.0        0.00        0.00  \n",
       "4        NaN        NaN  1526         0.0         0.0        0.00        0.00  \n",
       "\n",
       "[5 rows x 226 columns]"
      ]
     },
     "execution_count": 2,
     "metadata": {},
     "output_type": "execute_result"
    }
   ],
   "source": [
    "# Importing dataset\n",
    "data = pd.read_csv(\"telecom_churn_data.csv\")\n",
    "data.head()"
   ]
  },
  {
   "cell_type": "code",
   "execution_count": 3,
   "id": "9e0e132a",
   "metadata": {},
   "outputs": [
    {
     "data": {
      "text/plain": [
       "(99999, 226)"
      ]
     },
     "execution_count": 3,
     "metadata": {},
     "output_type": "execute_result"
    }
   ],
   "source": [
    "# shape of the dataset\n",
    "data.shape"
   ]
  },
  {
   "cell_type": "code",
   "execution_count": 4,
   "id": "56e50ba4",
   "metadata": {},
   "outputs": [
    {
     "name": "stdout",
     "output_type": "stream",
     "text": [
      "Index(['total_rech_amt_6', 'total_rech_amt_7', 'total_rech_amt_8',\n",
      "       'total_rech_amt_9', 'max_rech_amt_6', 'max_rech_amt_7',\n",
      "       'max_rech_amt_8', 'max_rech_amt_9', 'date_of_last_rech_data_6',\n",
      "       'date_of_last_rech_data_7', 'date_of_last_rech_data_8',\n",
      "       'date_of_last_rech_data_9', 'total_rech_data_6', 'total_rech_data_7',\n",
      "       'total_rech_data_8', 'total_rech_data_9', 'max_rech_data_6',\n",
      "       'max_rech_data_7', 'max_rech_data_8', 'max_rech_data_9',\n",
      "       'av_rech_amt_data_6', 'av_rech_amt_data_7', 'av_rech_amt_data_8',\n",
      "       'av_rech_amt_data_9'],\n",
      "      dtype='object')\n"
     ]
    }
   ],
   "source": [
    "# Let us first extract list of columns containing recharge amount\n",
    "\n",
    "amt_recharge_columns =data.columns[data.columns.str.contains('rech_amt|rech_data')]\n",
    "print(amt_recharge_columns)"
   ]
  },
  {
   "cell_type": "code",
   "execution_count": 5,
   "id": "3b3fc7b1",
   "metadata": {},
   "outputs": [
    {
     "data": {
      "text/html": [
       "<div>\n",
       "<style scoped>\n",
       "    .dataframe tbody tr th:only-of-type {\n",
       "        vertical-align: middle;\n",
       "    }\n",
       "\n",
       "    .dataframe tbody tr th {\n",
       "        vertical-align: top;\n",
       "    }\n",
       "\n",
       "    .dataframe thead th {\n",
       "        text-align: right;\n",
       "    }\n",
       "</style>\n",
       "<table border=\"1\" class=\"dataframe\">\n",
       "  <thead>\n",
       "    <tr style=\"text-align: right;\">\n",
       "      <th></th>\n",
       "      <th>Null_Percentage</th>\n",
       "    </tr>\n",
       "  </thead>\n",
       "  <tbody>\n",
       "    <tr>\n",
       "      <th>total_rech_amt_6</th>\n",
       "      <td>0.000000</td>\n",
       "    </tr>\n",
       "    <tr>\n",
       "      <th>total_rech_amt_7</th>\n",
       "      <td>0.000000</td>\n",
       "    </tr>\n",
       "    <tr>\n",
       "      <th>total_rech_amt_8</th>\n",
       "      <td>0.000000</td>\n",
       "    </tr>\n",
       "    <tr>\n",
       "      <th>total_rech_amt_9</th>\n",
       "      <td>0.000000</td>\n",
       "    </tr>\n",
       "    <tr>\n",
       "      <th>max_rech_amt_6</th>\n",
       "      <td>0.000000</td>\n",
       "    </tr>\n",
       "    <tr>\n",
       "      <th>max_rech_amt_7</th>\n",
       "      <td>0.000000</td>\n",
       "    </tr>\n",
       "    <tr>\n",
       "      <th>max_rech_amt_8</th>\n",
       "      <td>0.000000</td>\n",
       "    </tr>\n",
       "    <tr>\n",
       "      <th>max_rech_amt_9</th>\n",
       "      <td>0.000000</td>\n",
       "    </tr>\n",
       "    <tr>\n",
       "      <th>date_of_last_rech_data_6</th>\n",
       "      <td>74.846748</td>\n",
       "    </tr>\n",
       "    <tr>\n",
       "      <th>date_of_last_rech_data_7</th>\n",
       "      <td>74.428744</td>\n",
       "    </tr>\n",
       "    <tr>\n",
       "      <th>date_of_last_rech_data_8</th>\n",
       "      <td>73.660737</td>\n",
       "    </tr>\n",
       "    <tr>\n",
       "      <th>date_of_last_rech_data_9</th>\n",
       "      <td>74.077741</td>\n",
       "    </tr>\n",
       "    <tr>\n",
       "      <th>total_rech_data_6</th>\n",
       "      <td>74.846748</td>\n",
       "    </tr>\n",
       "    <tr>\n",
       "      <th>total_rech_data_7</th>\n",
       "      <td>74.428744</td>\n",
       "    </tr>\n",
       "    <tr>\n",
       "      <th>total_rech_data_8</th>\n",
       "      <td>73.660737</td>\n",
       "    </tr>\n",
       "    <tr>\n",
       "      <th>total_rech_data_9</th>\n",
       "      <td>74.077741</td>\n",
       "    </tr>\n",
       "    <tr>\n",
       "      <th>max_rech_data_6</th>\n",
       "      <td>74.846748</td>\n",
       "    </tr>\n",
       "    <tr>\n",
       "      <th>max_rech_data_7</th>\n",
       "      <td>74.428744</td>\n",
       "    </tr>\n",
       "    <tr>\n",
       "      <th>max_rech_data_8</th>\n",
       "      <td>73.660737</td>\n",
       "    </tr>\n",
       "    <tr>\n",
       "      <th>max_rech_data_9</th>\n",
       "      <td>74.077741</td>\n",
       "    </tr>\n",
       "    <tr>\n",
       "      <th>av_rech_amt_data_6</th>\n",
       "      <td>74.846748</td>\n",
       "    </tr>\n",
       "    <tr>\n",
       "      <th>av_rech_amt_data_7</th>\n",
       "      <td>74.428744</td>\n",
       "    </tr>\n",
       "    <tr>\n",
       "      <th>av_rech_amt_data_8</th>\n",
       "      <td>73.660737</td>\n",
       "    </tr>\n",
       "    <tr>\n",
       "      <th>av_rech_amt_data_9</th>\n",
       "      <td>74.077741</td>\n",
       "    </tr>\n",
       "  </tbody>\n",
       "</table>\n",
       "</div>"
      ],
      "text/plain": [
       "                          Null_Percentage\n",
       "total_rech_amt_6                 0.000000\n",
       "total_rech_amt_7                 0.000000\n",
       "total_rech_amt_8                 0.000000\n",
       "total_rech_amt_9                 0.000000\n",
       "max_rech_amt_6                   0.000000\n",
       "max_rech_amt_7                   0.000000\n",
       "max_rech_amt_8                   0.000000\n",
       "max_rech_amt_9                   0.000000\n",
       "date_of_last_rech_data_6        74.846748\n",
       "date_of_last_rech_data_7        74.428744\n",
       "date_of_last_rech_data_8        73.660737\n",
       "date_of_last_rech_data_9        74.077741\n",
       "total_rech_data_6               74.846748\n",
       "total_rech_data_7               74.428744\n",
       "total_rech_data_8               73.660737\n",
       "total_rech_data_9               74.077741\n",
       "max_rech_data_6                 74.846748\n",
       "max_rech_data_7                 74.428744\n",
       "max_rech_data_8                 73.660737\n",
       "max_rech_data_9                 74.077741\n",
       "av_rech_amt_data_6              74.846748\n",
       "av_rech_amt_data_7              74.428744\n",
       "av_rech_amt_data_8              73.660737\n",
       "av_rech_amt_data_9              74.077741"
      ]
     },
     "metadata": {},
     "output_type": "display_data"
    }
   ],
   "source": [
    "# Checking missing values percentages\n",
    "\n",
    "telecom_null_check = 100*data.loc[:,amt_recharge_columns].isnull().sum()/len(data)\n",
    "df = pd.DataFrame(telecom_null_check)\n",
    "df.rename(columns={0:'Null_Percentage'}, inplace=True)\n",
    "display(df)"
   ]
  },
  {
   "cell_type": "code",
   "execution_count": 6,
   "id": "5f4e1cbc",
   "metadata": {},
   "outputs": [
    {
     "data": {
      "text/html": [
       "<div>\n",
       "<style scoped>\n",
       "    .dataframe tbody tr th:only-of-type {\n",
       "        vertical-align: middle;\n",
       "    }\n",
       "\n",
       "    .dataframe tbody tr th {\n",
       "        vertical-align: top;\n",
       "    }\n",
       "\n",
       "    .dataframe thead th {\n",
       "        text-align: right;\n",
       "    }\n",
       "</style>\n",
       "<table border=\"1\" class=\"dataframe\">\n",
       "  <thead>\n",
       "    <tr style=\"text-align: right;\">\n",
       "      <th></th>\n",
       "      <th>total_rech_amt_6</th>\n",
       "      <th>total_rech_amt_7</th>\n",
       "      <th>total_rech_amt_8</th>\n",
       "      <th>total_rech_amt_9</th>\n",
       "      <th>max_rech_amt_6</th>\n",
       "      <th>max_rech_amt_7</th>\n",
       "      <th>max_rech_amt_8</th>\n",
       "      <th>max_rech_amt_9</th>\n",
       "      <th>total_rech_data_6</th>\n",
       "      <th>total_rech_data_7</th>\n",
       "      <th>total_rech_data_8</th>\n",
       "      <th>total_rech_data_9</th>\n",
       "      <th>max_rech_data_6</th>\n",
       "      <th>max_rech_data_7</th>\n",
       "      <th>max_rech_data_8</th>\n",
       "      <th>max_rech_data_9</th>\n",
       "      <th>av_rech_amt_data_6</th>\n",
       "      <th>av_rech_amt_data_7</th>\n",
       "      <th>av_rech_amt_data_8</th>\n",
       "      <th>av_rech_amt_data_9</th>\n",
       "    </tr>\n",
       "  </thead>\n",
       "  <tbody>\n",
       "    <tr>\n",
       "      <th>count</th>\n",
       "      <td>99999.000000</td>\n",
       "      <td>99999.000000</td>\n",
       "      <td>99999.000000</td>\n",
       "      <td>99999.000000</td>\n",
       "      <td>99999.000000</td>\n",
       "      <td>99999.000000</td>\n",
       "      <td>99999.000000</td>\n",
       "      <td>99999.000000</td>\n",
       "      <td>25153.000000</td>\n",
       "      <td>25571.000000</td>\n",
       "      <td>26339.000000</td>\n",
       "      <td>25922.000000</td>\n",
       "      <td>25153.000000</td>\n",
       "      <td>25571.000000</td>\n",
       "      <td>26339.000000</td>\n",
       "      <td>25922.00000</td>\n",
       "      <td>25153.000000</td>\n",
       "      <td>25571.000000</td>\n",
       "      <td>26339.000000</td>\n",
       "      <td>25922.000000</td>\n",
       "    </tr>\n",
       "    <tr>\n",
       "      <th>mean</th>\n",
       "      <td>327.514615</td>\n",
       "      <td>322.962970</td>\n",
       "      <td>324.157122</td>\n",
       "      <td>303.345673</td>\n",
       "      <td>104.637486</td>\n",
       "      <td>104.752398</td>\n",
       "      <td>107.728207</td>\n",
       "      <td>101.943889</td>\n",
       "      <td>2.463802</td>\n",
       "      <td>2.666419</td>\n",
       "      <td>2.651999</td>\n",
       "      <td>2.441170</td>\n",
       "      <td>126.393392</td>\n",
       "      <td>126.729459</td>\n",
       "      <td>125.717301</td>\n",
       "      <td>124.94144</td>\n",
       "      <td>192.600982</td>\n",
       "      <td>200.981292</td>\n",
       "      <td>197.526489</td>\n",
       "      <td>192.734315</td>\n",
       "    </tr>\n",
       "    <tr>\n",
       "      <th>std</th>\n",
       "      <td>398.019701</td>\n",
       "      <td>408.114237</td>\n",
       "      <td>416.540455</td>\n",
       "      <td>404.588583</td>\n",
       "      <td>120.614894</td>\n",
       "      <td>124.523970</td>\n",
       "      <td>126.902505</td>\n",
       "      <td>125.375109</td>\n",
       "      <td>2.789128</td>\n",
       "      <td>3.031593</td>\n",
       "      <td>3.074987</td>\n",
       "      <td>2.516339</td>\n",
       "      <td>108.477235</td>\n",
       "      <td>109.765267</td>\n",
       "      <td>109.437851</td>\n",
       "      <td>111.36376</td>\n",
       "      <td>192.646318</td>\n",
       "      <td>196.791224</td>\n",
       "      <td>191.301305</td>\n",
       "      <td>188.400286</td>\n",
       "    </tr>\n",
       "    <tr>\n",
       "      <th>min</th>\n",
       "      <td>0.000000</td>\n",
       "      <td>0.000000</td>\n",
       "      <td>0.000000</td>\n",
       "      <td>0.000000</td>\n",
       "      <td>0.000000</td>\n",
       "      <td>0.000000</td>\n",
       "      <td>0.000000</td>\n",
       "      <td>0.000000</td>\n",
       "      <td>1.000000</td>\n",
       "      <td>1.000000</td>\n",
       "      <td>1.000000</td>\n",
       "      <td>1.000000</td>\n",
       "      <td>1.000000</td>\n",
       "      <td>1.000000</td>\n",
       "      <td>1.000000</td>\n",
       "      <td>1.00000</td>\n",
       "      <td>1.000000</td>\n",
       "      <td>0.500000</td>\n",
       "      <td>0.500000</td>\n",
       "      <td>1.000000</td>\n",
       "    </tr>\n",
       "    <tr>\n",
       "      <th>25%</th>\n",
       "      <td>109.000000</td>\n",
       "      <td>100.000000</td>\n",
       "      <td>90.000000</td>\n",
       "      <td>52.000000</td>\n",
       "      <td>30.000000</td>\n",
       "      <td>30.000000</td>\n",
       "      <td>30.000000</td>\n",
       "      <td>28.000000</td>\n",
       "      <td>1.000000</td>\n",
       "      <td>1.000000</td>\n",
       "      <td>1.000000</td>\n",
       "      <td>1.000000</td>\n",
       "      <td>25.000000</td>\n",
       "      <td>25.000000</td>\n",
       "      <td>25.000000</td>\n",
       "      <td>25.00000</td>\n",
       "      <td>82.000000</td>\n",
       "      <td>92.000000</td>\n",
       "      <td>87.000000</td>\n",
       "      <td>69.000000</td>\n",
       "    </tr>\n",
       "    <tr>\n",
       "      <th>50%</th>\n",
       "      <td>230.000000</td>\n",
       "      <td>220.000000</td>\n",
       "      <td>225.000000</td>\n",
       "      <td>200.000000</td>\n",
       "      <td>110.000000</td>\n",
       "      <td>110.000000</td>\n",
       "      <td>98.000000</td>\n",
       "      <td>61.000000</td>\n",
       "      <td>1.000000</td>\n",
       "      <td>1.000000</td>\n",
       "      <td>1.000000</td>\n",
       "      <td>2.000000</td>\n",
       "      <td>145.000000</td>\n",
       "      <td>145.000000</td>\n",
       "      <td>145.000000</td>\n",
       "      <td>145.00000</td>\n",
       "      <td>154.000000</td>\n",
       "      <td>154.000000</td>\n",
       "      <td>154.000000</td>\n",
       "      <td>164.000000</td>\n",
       "    </tr>\n",
       "    <tr>\n",
       "      <th>75%</th>\n",
       "      <td>437.500000</td>\n",
       "      <td>428.000000</td>\n",
       "      <td>434.500000</td>\n",
       "      <td>415.000000</td>\n",
       "      <td>120.000000</td>\n",
       "      <td>128.000000</td>\n",
       "      <td>144.000000</td>\n",
       "      <td>144.000000</td>\n",
       "      <td>3.000000</td>\n",
       "      <td>3.000000</td>\n",
       "      <td>3.000000</td>\n",
       "      <td>3.000000</td>\n",
       "      <td>177.000000</td>\n",
       "      <td>177.000000</td>\n",
       "      <td>179.000000</td>\n",
       "      <td>179.00000</td>\n",
       "      <td>252.000000</td>\n",
       "      <td>252.000000</td>\n",
       "      <td>252.000000</td>\n",
       "      <td>252.000000</td>\n",
       "    </tr>\n",
       "    <tr>\n",
       "      <th>max</th>\n",
       "      <td>35190.000000</td>\n",
       "      <td>40335.000000</td>\n",
       "      <td>45320.000000</td>\n",
       "      <td>37235.000000</td>\n",
       "      <td>4010.000000</td>\n",
       "      <td>4010.000000</td>\n",
       "      <td>4449.000000</td>\n",
       "      <td>3399.000000</td>\n",
       "      <td>61.000000</td>\n",
       "      <td>54.000000</td>\n",
       "      <td>60.000000</td>\n",
       "      <td>84.000000</td>\n",
       "      <td>1555.000000</td>\n",
       "      <td>1555.000000</td>\n",
       "      <td>1555.000000</td>\n",
       "      <td>1555.00000</td>\n",
       "      <td>7546.000000</td>\n",
       "      <td>4365.000000</td>\n",
       "      <td>4076.000000</td>\n",
       "      <td>4061.000000</td>\n",
       "    </tr>\n",
       "  </tbody>\n",
       "</table>\n",
       "</div>"
      ],
      "text/plain": [
       "       total_rech_amt_6  total_rech_amt_7  total_rech_amt_8  total_rech_amt_9  \\\n",
       "count      99999.000000      99999.000000      99999.000000      99999.000000   \n",
       "mean         327.514615        322.962970        324.157122        303.345673   \n",
       "std          398.019701        408.114237        416.540455        404.588583   \n",
       "min            0.000000          0.000000          0.000000          0.000000   \n",
       "25%          109.000000        100.000000         90.000000         52.000000   \n",
       "50%          230.000000        220.000000        225.000000        200.000000   \n",
       "75%          437.500000        428.000000        434.500000        415.000000   \n",
       "max        35190.000000      40335.000000      45320.000000      37235.000000   \n",
       "\n",
       "       max_rech_amt_6  max_rech_amt_7  max_rech_amt_8  max_rech_amt_9  \\\n",
       "count    99999.000000    99999.000000    99999.000000    99999.000000   \n",
       "mean       104.637486      104.752398      107.728207      101.943889   \n",
       "std        120.614894      124.523970      126.902505      125.375109   \n",
       "min          0.000000        0.000000        0.000000        0.000000   \n",
       "25%         30.000000       30.000000       30.000000       28.000000   \n",
       "50%        110.000000      110.000000       98.000000       61.000000   \n",
       "75%        120.000000      128.000000      144.000000      144.000000   \n",
       "max       4010.000000     4010.000000     4449.000000     3399.000000   \n",
       "\n",
       "       total_rech_data_6  total_rech_data_7  total_rech_data_8  \\\n",
       "count       25153.000000       25571.000000       26339.000000   \n",
       "mean            2.463802           2.666419           2.651999   \n",
       "std             2.789128           3.031593           3.074987   \n",
       "min             1.000000           1.000000           1.000000   \n",
       "25%             1.000000           1.000000           1.000000   \n",
       "50%             1.000000           1.000000           1.000000   \n",
       "75%             3.000000           3.000000           3.000000   \n",
       "max            61.000000          54.000000          60.000000   \n",
       "\n",
       "       total_rech_data_9  max_rech_data_6  max_rech_data_7  max_rech_data_8  \\\n",
       "count       25922.000000     25153.000000     25571.000000     26339.000000   \n",
       "mean            2.441170       126.393392       126.729459       125.717301   \n",
       "std             2.516339       108.477235       109.765267       109.437851   \n",
       "min             1.000000         1.000000         1.000000         1.000000   \n",
       "25%             1.000000        25.000000        25.000000        25.000000   \n",
       "50%             2.000000       145.000000       145.000000       145.000000   \n",
       "75%             3.000000       177.000000       177.000000       179.000000   \n",
       "max            84.000000      1555.000000      1555.000000      1555.000000   \n",
       "\n",
       "       max_rech_data_9  av_rech_amt_data_6  av_rech_amt_data_7  \\\n",
       "count      25922.00000        25153.000000        25571.000000   \n",
       "mean         124.94144          192.600982          200.981292   \n",
       "std          111.36376          192.646318          196.791224   \n",
       "min            1.00000            1.000000            0.500000   \n",
       "25%           25.00000           82.000000           92.000000   \n",
       "50%          145.00000          154.000000          154.000000   \n",
       "75%          179.00000          252.000000          252.000000   \n",
       "max         1555.00000         7546.000000         4365.000000   \n",
       "\n",
       "       av_rech_amt_data_8  av_rech_amt_data_9  \n",
       "count        26339.000000        25922.000000  \n",
       "mean           197.526489          192.734315  \n",
       "std            191.301305          188.400286  \n",
       "min              0.500000            1.000000  \n",
       "25%             87.000000           69.000000  \n",
       "50%            154.000000          164.000000  \n",
       "75%            252.000000          252.000000  \n",
       "max           4076.000000         4061.000000  "
      ]
     },
     "execution_count": 6,
     "metadata": {},
     "output_type": "execute_result"
    }
   ],
   "source": [
    "# We can see more than 74% values for recharge related data are missing.\n",
    "data.loc[:,amt_recharge_columns].describe()"
   ]
  },
  {
   "cell_type": "code",
   "execution_count": 7,
   "id": "5962a76a",
   "metadata": {},
   "outputs": [],
   "source": [
    "# We can create new feature as total_rech_amt_data using total_rech_data and av_rech_amt_data to capture amount utilized by customer for data.\n",
    "\n",
    "# Also as the minimum value is 1 we can impute the NA values by 0, Considering there were no recharges done by the customer.\n",
    "\n"
   ]
  },
  {
   "cell_type": "code",
   "execution_count": 8,
   "id": "bf312f06",
   "metadata": {},
   "outputs": [],
   "source": [
    "data['total_rech_data_6'] = data['total_rech_data_6'].replace(np.NaN,0.0)\n",
    "data['total_rech_data_7'] = data['total_rech_data_7'].replace(np.NaN,0.0)\n",
    "data['total_rech_data_8'] = data['total_rech_data_8'].replace(np.NaN,0.0)"
   ]
  },
  {
   "cell_type": "code",
   "execution_count": 9,
   "id": "28b214b6",
   "metadata": {},
   "outputs": [],
   "source": [
    "data['av_rech_amt_data_6'] = data['av_rech_amt_data_6'].replace(np.NaN,0.0)\n",
    "data['av_rech_amt_data_7'] = data['av_rech_amt_data_7'].replace(np.NaN,0.0)\n",
    "data['av_rech_amt_data_8'] = data['av_rech_amt_data_8'].replace(np.NaN,0.0)"
   ]
  },
  {
   "cell_type": "code",
   "execution_count": 10,
   "id": "7780382d",
   "metadata": {},
   "outputs": [],
   "source": [
    "# Now we will create new column - Total Recharge Amount for Data for calculating High Value Customer.\n",
    "\n",
    "# Total Recharge Amount for Data = Avg Recharge Amount X Total Recharge Data\n",
    "#Total Recharge Amount for data\n",
    "\n",
    "data['total_rech_amt_data_6'] = data.av_rech_amt_data_6 * data.total_rech_data_6\n",
    "data['total_rech_amt_data_7'] = data.av_rech_amt_data_7 * data.total_rech_data_7\n",
    "data['total_rech_amt_data_8'] = data.av_rech_amt_data_8 * data.total_rech_data_8"
   ]
  },
  {
   "cell_type": "code",
   "execution_count": 11,
   "id": "fe62e870",
   "metadata": {},
   "outputs": [],
   "source": [
    "# Analysis: Defining total average recharge amount for good phase for months 6 and 7\n",
    "data['total_avg_rech_amnt_6_7_GPhase'] = (data.total_rech_amt_6 + data.total_rech_amt_data_6\n",
    "                                             + data.total_rech_amt_7+ data.total_rech_amt_data_7)/2"
   ]
  },
  {
   "cell_type": "code",
   "execution_count": 12,
   "id": "19fcf179",
   "metadata": {},
   "outputs": [
    {
     "name": "stdout",
     "output_type": "stream",
     "text": [
      "70 percentile of 6th and 7th months avg recharge amount: 478.0\n",
      "Dataframe Shape after Filtering High Value Customers: (29953, 230)\n"
     ]
    }
   ],
   "source": [
    "#Filter high-value customers high-value customers-\n",
    "\n",
    "# Those who have recharged with an amount more than or equal to X, where X is greater than 70th percentile of the average recharge amount in the first two months (the good phase)\n",
    " # create a filter for values greater than 70th percentile of total average recharge amount for good phase \n",
    "high_value_filter = data.total_avg_rech_amnt_6_7_GPhase.quantile(0.7)\n",
    "\n",
    "print('70 percentile of 6th and 7th months avg recharge amount: '+str(high_value_filter))\n",
    "\n",
    "telecom_high_val_cust = data[data.total_avg_rech_amnt_6_7_GPhase > high_value_filter]\n",
    "print('Dataframe Shape after Filtering High Value Customers: ' + str(telecom_high_val_cust.shape))"
   ]
  },
  {
   "cell_type": "code",
   "execution_count": 13,
   "id": "c2a9c89a",
   "metadata": {},
   "outputs": [
    {
     "data": {
      "text/html": [
       "<div>\n",
       "<style scoped>\n",
       "    .dataframe tbody tr th:only-of-type {\n",
       "        vertical-align: middle;\n",
       "    }\n",
       "\n",
       "    .dataframe tbody tr th {\n",
       "        vertical-align: top;\n",
       "    }\n",
       "\n",
       "    .dataframe thead th {\n",
       "        text-align: right;\n",
       "    }\n",
       "</style>\n",
       "<table border=\"1\" class=\"dataframe\">\n",
       "  <thead>\n",
       "    <tr style=\"text-align: right;\">\n",
       "      <th></th>\n",
       "      <th>mobile_number</th>\n",
       "      <th>circle_id</th>\n",
       "      <th>loc_og_t2o_mou</th>\n",
       "      <th>std_og_t2o_mou</th>\n",
       "      <th>loc_ic_t2o_mou</th>\n",
       "      <th>last_date_of_month_6</th>\n",
       "      <th>last_date_of_month_7</th>\n",
       "      <th>last_date_of_month_8</th>\n",
       "      <th>last_date_of_month_9</th>\n",
       "      <th>arpu_6</th>\n",
       "      <th>...</th>\n",
       "      <th>fb_user_9</th>\n",
       "      <th>aon</th>\n",
       "      <th>aug_vbc_3g</th>\n",
       "      <th>jul_vbc_3g</th>\n",
       "      <th>jun_vbc_3g</th>\n",
       "      <th>sep_vbc_3g</th>\n",
       "      <th>total_rech_amt_data_6</th>\n",
       "      <th>total_rech_amt_data_7</th>\n",
       "      <th>total_rech_amt_data_8</th>\n",
       "      <th>total_avg_rech_amnt_6_7_GPhase</th>\n",
       "    </tr>\n",
       "  </thead>\n",
       "  <tbody>\n",
       "    <tr>\n",
       "      <th>0</th>\n",
       "      <td>7000842753</td>\n",
       "      <td>109</td>\n",
       "      <td>0.0</td>\n",
       "      <td>0.0</td>\n",
       "      <td>0.0</td>\n",
       "      <td>6/30/2014</td>\n",
       "      <td>7/31/2014</td>\n",
       "      <td>8/31/2014</td>\n",
       "      <td>9/30/2014</td>\n",
       "      <td>197.385</td>\n",
       "      <td>...</td>\n",
       "      <td>NaN</td>\n",
       "      <td>968</td>\n",
       "      <td>30.40</td>\n",
       "      <td>0.00</td>\n",
       "      <td>101.20</td>\n",
       "      <td>3.58</td>\n",
       "      <td>252.0</td>\n",
       "      <td>252.0</td>\n",
       "      <td>252.0</td>\n",
       "      <td>559.0</td>\n",
       "    </tr>\n",
       "    <tr>\n",
       "      <th>7</th>\n",
       "      <td>7000701601</td>\n",
       "      <td>109</td>\n",
       "      <td>0.0</td>\n",
       "      <td>0.0</td>\n",
       "      <td>0.0</td>\n",
       "      <td>6/30/2014</td>\n",
       "      <td>7/31/2014</td>\n",
       "      <td>8/31/2014</td>\n",
       "      <td>9/30/2014</td>\n",
       "      <td>1069.180</td>\n",
       "      <td>...</td>\n",
       "      <td>NaN</td>\n",
       "      <td>802</td>\n",
       "      <td>57.74</td>\n",
       "      <td>19.38</td>\n",
       "      <td>18.74</td>\n",
       "      <td>0.00</td>\n",
       "      <td>0.0</td>\n",
       "      <td>0.0</td>\n",
       "      <td>0.0</td>\n",
       "      <td>1185.0</td>\n",
       "    </tr>\n",
       "    <tr>\n",
       "      <th>8</th>\n",
       "      <td>7001524846</td>\n",
       "      <td>109</td>\n",
       "      <td>0.0</td>\n",
       "      <td>0.0</td>\n",
       "      <td>0.0</td>\n",
       "      <td>6/30/2014</td>\n",
       "      <td>7/31/2014</td>\n",
       "      <td>8/31/2014</td>\n",
       "      <td>9/30/2014</td>\n",
       "      <td>378.721</td>\n",
       "      <td>...</td>\n",
       "      <td>NaN</td>\n",
       "      <td>315</td>\n",
       "      <td>21.03</td>\n",
       "      <td>910.65</td>\n",
       "      <td>122.16</td>\n",
       "      <td>0.00</td>\n",
       "      <td>0.0</td>\n",
       "      <td>354.0</td>\n",
       "      <td>207.0</td>\n",
       "      <td>696.0</td>\n",
       "    </tr>\n",
       "    <tr>\n",
       "      <th>21</th>\n",
       "      <td>7002124215</td>\n",
       "      <td>109</td>\n",
       "      <td>0.0</td>\n",
       "      <td>0.0</td>\n",
       "      <td>0.0</td>\n",
       "      <td>6/30/2014</td>\n",
       "      <td>7/31/2014</td>\n",
       "      <td>8/31/2014</td>\n",
       "      <td>9/30/2014</td>\n",
       "      <td>514.453</td>\n",
       "      <td>...</td>\n",
       "      <td>NaN</td>\n",
       "      <td>720</td>\n",
       "      <td>0.00</td>\n",
       "      <td>0.00</td>\n",
       "      <td>0.00</td>\n",
       "      <td>0.00</td>\n",
       "      <td>0.0</td>\n",
       "      <td>0.0</td>\n",
       "      <td>0.0</td>\n",
       "      <td>640.0</td>\n",
       "    </tr>\n",
       "    <tr>\n",
       "      <th>23</th>\n",
       "      <td>7000887461</td>\n",
       "      <td>109</td>\n",
       "      <td>0.0</td>\n",
       "      <td>0.0</td>\n",
       "      <td>0.0</td>\n",
       "      <td>6/30/2014</td>\n",
       "      <td>7/31/2014</td>\n",
       "      <td>8/31/2014</td>\n",
       "      <td>9/30/2014</td>\n",
       "      <td>74.350</td>\n",
       "      <td>...</td>\n",
       "      <td>1.0</td>\n",
       "      <td>604</td>\n",
       "      <td>40.45</td>\n",
       "      <td>51.86</td>\n",
       "      <td>0.00</td>\n",
       "      <td>0.00</td>\n",
       "      <td>0.0</td>\n",
       "      <td>712.0</td>\n",
       "      <td>540.0</td>\n",
       "      <td>583.0</td>\n",
       "    </tr>\n",
       "  </tbody>\n",
       "</table>\n",
       "<p>5 rows × 230 columns</p>\n",
       "</div>"
      ],
      "text/plain": [
       "    mobile_number  circle_id  loc_og_t2o_mou  std_og_t2o_mou  loc_ic_t2o_mou  \\\n",
       "0      7000842753        109             0.0             0.0             0.0   \n",
       "7      7000701601        109             0.0             0.0             0.0   \n",
       "8      7001524846        109             0.0             0.0             0.0   \n",
       "21     7002124215        109             0.0             0.0             0.0   \n",
       "23     7000887461        109             0.0             0.0             0.0   \n",
       "\n",
       "   last_date_of_month_6 last_date_of_month_7 last_date_of_month_8  \\\n",
       "0             6/30/2014            7/31/2014            8/31/2014   \n",
       "7             6/30/2014            7/31/2014            8/31/2014   \n",
       "8             6/30/2014            7/31/2014            8/31/2014   \n",
       "21            6/30/2014            7/31/2014            8/31/2014   \n",
       "23            6/30/2014            7/31/2014            8/31/2014   \n",
       "\n",
       "   last_date_of_month_9    arpu_6  ...  fb_user_9  aon  aug_vbc_3g  \\\n",
       "0             9/30/2014   197.385  ...        NaN  968       30.40   \n",
       "7             9/30/2014  1069.180  ...        NaN  802       57.74   \n",
       "8             9/30/2014   378.721  ...        NaN  315       21.03   \n",
       "21            9/30/2014   514.453  ...        NaN  720        0.00   \n",
       "23            9/30/2014    74.350  ...        1.0  604       40.45   \n",
       "\n",
       "    jul_vbc_3g  jun_vbc_3g  sep_vbc_3g  total_rech_amt_data_6  \\\n",
       "0         0.00      101.20        3.58                  252.0   \n",
       "7        19.38       18.74        0.00                    0.0   \n",
       "8       910.65      122.16        0.00                    0.0   \n",
       "21        0.00        0.00        0.00                    0.0   \n",
       "23       51.86        0.00        0.00                    0.0   \n",
       "\n",
       "    total_rech_amt_data_7  total_rech_amt_data_8  \\\n",
       "0                   252.0                  252.0   \n",
       "7                     0.0                    0.0   \n",
       "8                   354.0                  207.0   \n",
       "21                    0.0                    0.0   \n",
       "23                  712.0                  540.0   \n",
       "\n",
       "    total_avg_rech_amnt_6_7_GPhase  \n",
       "0                            559.0  \n",
       "7                           1185.0  \n",
       "8                            696.0  \n",
       "21                           640.0  \n",
       "23                           583.0  \n",
       "\n",
       "[5 rows x 230 columns]"
      ]
     },
     "execution_count": 13,
     "metadata": {},
     "output_type": "execute_result"
    }
   ],
   "source": [
    "telecom_high_val_cust.head()"
   ]
  },
  {
   "cell_type": "code",
   "execution_count": 14,
   "id": "a12ffa8b",
   "metadata": {},
   "outputs": [],
   "source": [
    "# Tag churners and remove attributes of the churn phase\n",
    "# Now tag the churned customers (churn=1, else 0) based on the fourth month as follows: Those who have not made any calls (either incoming or outgoing) AND have not used mobile internet even once in the churn phase.\n",
    "high_val_cust_9 = ['total_ic_mou_9', 'total_og_mou_9', 'vol_2g_mb_9','vol_3g_mb_9']"
   ]
  },
  {
   "cell_type": "code",
   "execution_count": 15,
   "id": "0cc6d1d0",
   "metadata": {},
   "outputs": [
    {
     "name": "stdout",
     "output_type": "stream",
     "text": [
      "                Null_Percentage\n",
      "total_ic_mou_9              0.0\n",
      "total_og_mou_9              0.0\n",
      "vol_2g_mb_9                 0.0\n",
      "vol_3g_mb_9                 0.0\n"
     ]
    }
   ],
   "source": [
    "# Checking the NA/Null values if present or not\n",
    "\n",
    "df = 100*telecom_high_val_cust.loc[:,high_val_cust_9].isnull().sum()/len(telecom_high_val_cust)\n",
    "df = pd.DataFrame(df)\n",
    "df.rename(columns={0:'Null_Percentage'}, inplace=True)\n",
    "print(df)"
   ]
  },
  {
   "cell_type": "code",
   "execution_count": 16,
   "id": "f4a11388",
   "metadata": {},
   "outputs": [],
   "source": [
    "# Initially setting all the values as 0\n",
    "\n",
    "telecom_high_val_cust['churn']= 0"
   ]
  },
  {
   "cell_type": "code",
   "execution_count": 17,
   "id": "e603844c",
   "metadata": {},
   "outputs": [],
   "source": [
    "#is_churned boolean flag for customers where above values are zero\n",
    "is_churned = (telecom_high_val_cust.total_ic_mou_9 == 0) & \\\n",
    "             (telecom_high_val_cust.total_og_mou_9 == 0) & \\\n",
    "             (telecom_high_val_cust.vol_2g_mb_9 ==0) & \\\n",
    "             (telecom_high_val_cust.vol_3g_mb_9 ==0)"
   ]
  },
  {
   "cell_type": "code",
   "execution_count": 18,
   "id": "b060d43b",
   "metadata": {},
   "outputs": [],
   "source": [
    "# set all which having is_churned True condition as 1\n",
    "telecom_high_val_cust.loc[is_churned,'churn']=1"
   ]
  },
  {
   "cell_type": "code",
   "execution_count": 19,
   "id": "301be033",
   "metadata": {},
   "outputs": [
    {
     "data": {
      "text/html": [
       "<div>\n",
       "<style scoped>\n",
       "    .dataframe tbody tr th:only-of-type {\n",
       "        vertical-align: middle;\n",
       "    }\n",
       "\n",
       "    .dataframe tbody tr th {\n",
       "        vertical-align: top;\n",
       "    }\n",
       "\n",
       "    .dataframe thead th {\n",
       "        text-align: right;\n",
       "    }\n",
       "</style>\n",
       "<table border=\"1\" class=\"dataframe\">\n",
       "  <thead>\n",
       "    <tr style=\"text-align: right;\">\n",
       "      <th></th>\n",
       "      <th>mobile_number</th>\n",
       "      <th>circle_id</th>\n",
       "      <th>loc_og_t2o_mou</th>\n",
       "      <th>std_og_t2o_mou</th>\n",
       "      <th>loc_ic_t2o_mou</th>\n",
       "      <th>last_date_of_month_6</th>\n",
       "      <th>last_date_of_month_7</th>\n",
       "      <th>last_date_of_month_8</th>\n",
       "      <th>last_date_of_month_9</th>\n",
       "      <th>arpu_6</th>\n",
       "      <th>...</th>\n",
       "      <th>aon</th>\n",
       "      <th>aug_vbc_3g</th>\n",
       "      <th>jul_vbc_3g</th>\n",
       "      <th>jun_vbc_3g</th>\n",
       "      <th>sep_vbc_3g</th>\n",
       "      <th>total_rech_amt_data_6</th>\n",
       "      <th>total_rech_amt_data_7</th>\n",
       "      <th>total_rech_amt_data_8</th>\n",
       "      <th>total_avg_rech_amnt_6_7_GPhase</th>\n",
       "      <th>churn</th>\n",
       "    </tr>\n",
       "  </thead>\n",
       "  <tbody>\n",
       "    <tr>\n",
       "      <th>0</th>\n",
       "      <td>7000842753</td>\n",
       "      <td>109</td>\n",
       "      <td>0.0</td>\n",
       "      <td>0.0</td>\n",
       "      <td>0.0</td>\n",
       "      <td>6/30/2014</td>\n",
       "      <td>7/31/2014</td>\n",
       "      <td>8/31/2014</td>\n",
       "      <td>9/30/2014</td>\n",
       "      <td>197.385</td>\n",
       "      <td>...</td>\n",
       "      <td>968</td>\n",
       "      <td>30.40</td>\n",
       "      <td>0.00</td>\n",
       "      <td>101.20</td>\n",
       "      <td>3.58</td>\n",
       "      <td>252.0</td>\n",
       "      <td>252.0</td>\n",
       "      <td>252.0</td>\n",
       "      <td>559.0</td>\n",
       "      <td>1</td>\n",
       "    </tr>\n",
       "    <tr>\n",
       "      <th>7</th>\n",
       "      <td>7000701601</td>\n",
       "      <td>109</td>\n",
       "      <td>0.0</td>\n",
       "      <td>0.0</td>\n",
       "      <td>0.0</td>\n",
       "      <td>6/30/2014</td>\n",
       "      <td>7/31/2014</td>\n",
       "      <td>8/31/2014</td>\n",
       "      <td>9/30/2014</td>\n",
       "      <td>1069.180</td>\n",
       "      <td>...</td>\n",
       "      <td>802</td>\n",
       "      <td>57.74</td>\n",
       "      <td>19.38</td>\n",
       "      <td>18.74</td>\n",
       "      <td>0.00</td>\n",
       "      <td>0.0</td>\n",
       "      <td>0.0</td>\n",
       "      <td>0.0</td>\n",
       "      <td>1185.0</td>\n",
       "      <td>1</td>\n",
       "    </tr>\n",
       "    <tr>\n",
       "      <th>8</th>\n",
       "      <td>7001524846</td>\n",
       "      <td>109</td>\n",
       "      <td>0.0</td>\n",
       "      <td>0.0</td>\n",
       "      <td>0.0</td>\n",
       "      <td>6/30/2014</td>\n",
       "      <td>7/31/2014</td>\n",
       "      <td>8/31/2014</td>\n",
       "      <td>9/30/2014</td>\n",
       "      <td>378.721</td>\n",
       "      <td>...</td>\n",
       "      <td>315</td>\n",
       "      <td>21.03</td>\n",
       "      <td>910.65</td>\n",
       "      <td>122.16</td>\n",
       "      <td>0.00</td>\n",
       "      <td>0.0</td>\n",
       "      <td>354.0</td>\n",
       "      <td>207.0</td>\n",
       "      <td>696.0</td>\n",
       "      <td>0</td>\n",
       "    </tr>\n",
       "    <tr>\n",
       "      <th>21</th>\n",
       "      <td>7002124215</td>\n",
       "      <td>109</td>\n",
       "      <td>0.0</td>\n",
       "      <td>0.0</td>\n",
       "      <td>0.0</td>\n",
       "      <td>6/30/2014</td>\n",
       "      <td>7/31/2014</td>\n",
       "      <td>8/31/2014</td>\n",
       "      <td>9/30/2014</td>\n",
       "      <td>514.453</td>\n",
       "      <td>...</td>\n",
       "      <td>720</td>\n",
       "      <td>0.00</td>\n",
       "      <td>0.00</td>\n",
       "      <td>0.00</td>\n",
       "      <td>0.00</td>\n",
       "      <td>0.0</td>\n",
       "      <td>0.0</td>\n",
       "      <td>0.0</td>\n",
       "      <td>640.0</td>\n",
       "      <td>0</td>\n",
       "    </tr>\n",
       "    <tr>\n",
       "      <th>23</th>\n",
       "      <td>7000887461</td>\n",
       "      <td>109</td>\n",
       "      <td>0.0</td>\n",
       "      <td>0.0</td>\n",
       "      <td>0.0</td>\n",
       "      <td>6/30/2014</td>\n",
       "      <td>7/31/2014</td>\n",
       "      <td>8/31/2014</td>\n",
       "      <td>9/30/2014</td>\n",
       "      <td>74.350</td>\n",
       "      <td>...</td>\n",
       "      <td>604</td>\n",
       "      <td>40.45</td>\n",
       "      <td>51.86</td>\n",
       "      <td>0.00</td>\n",
       "      <td>0.00</td>\n",
       "      <td>0.0</td>\n",
       "      <td>712.0</td>\n",
       "      <td>540.0</td>\n",
       "      <td>583.0</td>\n",
       "      <td>0</td>\n",
       "    </tr>\n",
       "  </tbody>\n",
       "</table>\n",
       "<p>5 rows × 231 columns</p>\n",
       "</div>"
      ],
      "text/plain": [
       "    mobile_number  circle_id  loc_og_t2o_mou  std_og_t2o_mou  loc_ic_t2o_mou  \\\n",
       "0      7000842753        109             0.0             0.0             0.0   \n",
       "7      7000701601        109             0.0             0.0             0.0   \n",
       "8      7001524846        109             0.0             0.0             0.0   \n",
       "21     7002124215        109             0.0             0.0             0.0   \n",
       "23     7000887461        109             0.0             0.0             0.0   \n",
       "\n",
       "   last_date_of_month_6 last_date_of_month_7 last_date_of_month_8  \\\n",
       "0             6/30/2014            7/31/2014            8/31/2014   \n",
       "7             6/30/2014            7/31/2014            8/31/2014   \n",
       "8             6/30/2014            7/31/2014            8/31/2014   \n",
       "21            6/30/2014            7/31/2014            8/31/2014   \n",
       "23            6/30/2014            7/31/2014            8/31/2014   \n",
       "\n",
       "   last_date_of_month_9    arpu_6  ...  aon  aug_vbc_3g  jul_vbc_3g  \\\n",
       "0             9/30/2014   197.385  ...  968       30.40        0.00   \n",
       "7             9/30/2014  1069.180  ...  802       57.74       19.38   \n",
       "8             9/30/2014   378.721  ...  315       21.03      910.65   \n",
       "21            9/30/2014   514.453  ...  720        0.00        0.00   \n",
       "23            9/30/2014    74.350  ...  604       40.45       51.86   \n",
       "\n",
       "    jun_vbc_3g  sep_vbc_3g  total_rech_amt_data_6  total_rech_amt_data_7  \\\n",
       "0       101.20        3.58                  252.0                  252.0   \n",
       "7        18.74        0.00                    0.0                    0.0   \n",
       "8       122.16        0.00                    0.0                  354.0   \n",
       "21        0.00        0.00                    0.0                    0.0   \n",
       "23        0.00        0.00                    0.0                  712.0   \n",
       "\n",
       "    total_rech_amt_data_8  total_avg_rech_amnt_6_7_GPhase  churn  \n",
       "0                   252.0                           559.0      1  \n",
       "7                     0.0                          1185.0      1  \n",
       "8                   207.0                           696.0      0  \n",
       "21                    0.0                           640.0      0  \n",
       "23                  540.0                           583.0      0  \n",
       "\n",
       "[5 rows x 231 columns]"
      ]
     },
     "execution_count": 19,
     "metadata": {},
     "output_type": "execute_result"
    }
   ],
   "source": [
    "telecom_high_val_cust.head()"
   ]
  },
  {
   "cell_type": "code",
   "execution_count": 20,
   "id": "10f02451",
   "metadata": {},
   "outputs": [
    {
     "data": {
      "text/plain": [
       "8.122725603445398"
      ]
     },
     "execution_count": 20,
     "metadata": {},
     "output_type": "execute_result"
    }
   ],
   "source": [
    "# let us check what's the % of churned customers\n",
    "\n",
    "100*telecom_high_val_cust.churn.sum()/len(telecom_high_val_cust)"
   ]
  },
  {
   "cell_type": "code",
   "execution_count": 21,
   "id": "e38aa0a0",
   "metadata": {},
   "outputs": [],
   "source": [
    "# After tagging churners, remove all the attributes corresponding to the churn phase (all attributes having ‘ _9’, etc. in their names)\n",
    "churn_month_columns =  telecom_high_val_cust.columns[telecom_high_val_cust.columns.str.contains('_9')]"
   ]
  },
  {
   "cell_type": "code",
   "execution_count": 22,
   "id": "bfab4e63",
   "metadata": {},
   "outputs": [],
   "source": [
    "# drop all columns corresponding to the churn phase\n",
    "telecom_high_val_cust.drop(churn_month_columns,axis=1,inplace=True)"
   ]
  },
  {
   "cell_type": "code",
   "execution_count": 23,
   "id": "7c08ebaa",
   "metadata": {},
   "outputs": [
    {
     "data": {
      "text/html": [
       "<div>\n",
       "<style scoped>\n",
       "    .dataframe tbody tr th:only-of-type {\n",
       "        vertical-align: middle;\n",
       "    }\n",
       "\n",
       "    .dataframe tbody tr th {\n",
       "        vertical-align: top;\n",
       "    }\n",
       "\n",
       "    .dataframe thead th {\n",
       "        text-align: right;\n",
       "    }\n",
       "</style>\n",
       "<table border=\"1\" class=\"dataframe\">\n",
       "  <thead>\n",
       "    <tr style=\"text-align: right;\">\n",
       "      <th></th>\n",
       "      <th>mobile_number</th>\n",
       "      <th>circle_id</th>\n",
       "      <th>loc_og_t2o_mou</th>\n",
       "      <th>std_og_t2o_mou</th>\n",
       "      <th>loc_ic_t2o_mou</th>\n",
       "      <th>last_date_of_month_6</th>\n",
       "      <th>last_date_of_month_7</th>\n",
       "      <th>last_date_of_month_8</th>\n",
       "      <th>arpu_6</th>\n",
       "      <th>arpu_7</th>\n",
       "      <th>...</th>\n",
       "      <th>aon</th>\n",
       "      <th>aug_vbc_3g</th>\n",
       "      <th>jul_vbc_3g</th>\n",
       "      <th>jun_vbc_3g</th>\n",
       "      <th>sep_vbc_3g</th>\n",
       "      <th>total_rech_amt_data_6</th>\n",
       "      <th>total_rech_amt_data_7</th>\n",
       "      <th>total_rech_amt_data_8</th>\n",
       "      <th>total_avg_rech_amnt_6_7_GPhase</th>\n",
       "      <th>churn</th>\n",
       "    </tr>\n",
       "  </thead>\n",
       "  <tbody>\n",
       "    <tr>\n",
       "      <th>0</th>\n",
       "      <td>7000842753</td>\n",
       "      <td>109</td>\n",
       "      <td>0.0</td>\n",
       "      <td>0.0</td>\n",
       "      <td>0.0</td>\n",
       "      <td>6/30/2014</td>\n",
       "      <td>7/31/2014</td>\n",
       "      <td>8/31/2014</td>\n",
       "      <td>197.385</td>\n",
       "      <td>214.816</td>\n",
       "      <td>...</td>\n",
       "      <td>968</td>\n",
       "      <td>30.40</td>\n",
       "      <td>0.00</td>\n",
       "      <td>101.20</td>\n",
       "      <td>3.58</td>\n",
       "      <td>252.0</td>\n",
       "      <td>252.0</td>\n",
       "      <td>252.0</td>\n",
       "      <td>559.0</td>\n",
       "      <td>1</td>\n",
       "    </tr>\n",
       "    <tr>\n",
       "      <th>7</th>\n",
       "      <td>7000701601</td>\n",
       "      <td>109</td>\n",
       "      <td>0.0</td>\n",
       "      <td>0.0</td>\n",
       "      <td>0.0</td>\n",
       "      <td>6/30/2014</td>\n",
       "      <td>7/31/2014</td>\n",
       "      <td>8/31/2014</td>\n",
       "      <td>1069.180</td>\n",
       "      <td>1349.850</td>\n",
       "      <td>...</td>\n",
       "      <td>802</td>\n",
       "      <td>57.74</td>\n",
       "      <td>19.38</td>\n",
       "      <td>18.74</td>\n",
       "      <td>0.00</td>\n",
       "      <td>0.0</td>\n",
       "      <td>0.0</td>\n",
       "      <td>0.0</td>\n",
       "      <td>1185.0</td>\n",
       "      <td>1</td>\n",
       "    </tr>\n",
       "    <tr>\n",
       "      <th>8</th>\n",
       "      <td>7001524846</td>\n",
       "      <td>109</td>\n",
       "      <td>0.0</td>\n",
       "      <td>0.0</td>\n",
       "      <td>0.0</td>\n",
       "      <td>6/30/2014</td>\n",
       "      <td>7/31/2014</td>\n",
       "      <td>8/31/2014</td>\n",
       "      <td>378.721</td>\n",
       "      <td>492.223</td>\n",
       "      <td>...</td>\n",
       "      <td>315</td>\n",
       "      <td>21.03</td>\n",
       "      <td>910.65</td>\n",
       "      <td>122.16</td>\n",
       "      <td>0.00</td>\n",
       "      <td>0.0</td>\n",
       "      <td>354.0</td>\n",
       "      <td>207.0</td>\n",
       "      <td>696.0</td>\n",
       "      <td>0</td>\n",
       "    </tr>\n",
       "    <tr>\n",
       "      <th>21</th>\n",
       "      <td>7002124215</td>\n",
       "      <td>109</td>\n",
       "      <td>0.0</td>\n",
       "      <td>0.0</td>\n",
       "      <td>0.0</td>\n",
       "      <td>6/30/2014</td>\n",
       "      <td>7/31/2014</td>\n",
       "      <td>8/31/2014</td>\n",
       "      <td>514.453</td>\n",
       "      <td>597.753</td>\n",
       "      <td>...</td>\n",
       "      <td>720</td>\n",
       "      <td>0.00</td>\n",
       "      <td>0.00</td>\n",
       "      <td>0.00</td>\n",
       "      <td>0.00</td>\n",
       "      <td>0.0</td>\n",
       "      <td>0.0</td>\n",
       "      <td>0.0</td>\n",
       "      <td>640.0</td>\n",
       "      <td>0</td>\n",
       "    </tr>\n",
       "    <tr>\n",
       "      <th>23</th>\n",
       "      <td>7000887461</td>\n",
       "      <td>109</td>\n",
       "      <td>0.0</td>\n",
       "      <td>0.0</td>\n",
       "      <td>0.0</td>\n",
       "      <td>6/30/2014</td>\n",
       "      <td>7/31/2014</td>\n",
       "      <td>8/31/2014</td>\n",
       "      <td>74.350</td>\n",
       "      <td>193.897</td>\n",
       "      <td>...</td>\n",
       "      <td>604</td>\n",
       "      <td>40.45</td>\n",
       "      <td>51.86</td>\n",
       "      <td>0.00</td>\n",
       "      <td>0.00</td>\n",
       "      <td>0.0</td>\n",
       "      <td>712.0</td>\n",
       "      <td>540.0</td>\n",
       "      <td>583.0</td>\n",
       "      <td>0</td>\n",
       "    </tr>\n",
       "  </tbody>\n",
       "</table>\n",
       "<p>5 rows × 177 columns</p>\n",
       "</div>"
      ],
      "text/plain": [
       "    mobile_number  circle_id  loc_og_t2o_mou  std_og_t2o_mou  loc_ic_t2o_mou  \\\n",
       "0      7000842753        109             0.0             0.0             0.0   \n",
       "7      7000701601        109             0.0             0.0             0.0   \n",
       "8      7001524846        109             0.0             0.0             0.0   \n",
       "21     7002124215        109             0.0             0.0             0.0   \n",
       "23     7000887461        109             0.0             0.0             0.0   \n",
       "\n",
       "   last_date_of_month_6 last_date_of_month_7 last_date_of_month_8    arpu_6  \\\n",
       "0             6/30/2014            7/31/2014            8/31/2014   197.385   \n",
       "7             6/30/2014            7/31/2014            8/31/2014  1069.180   \n",
       "8             6/30/2014            7/31/2014            8/31/2014   378.721   \n",
       "21            6/30/2014            7/31/2014            8/31/2014   514.453   \n",
       "23            6/30/2014            7/31/2014            8/31/2014    74.350   \n",
       "\n",
       "      arpu_7  ...  aon  aug_vbc_3g  jul_vbc_3g  jun_vbc_3g  sep_vbc_3g  \\\n",
       "0    214.816  ...  968       30.40        0.00      101.20        3.58   \n",
       "7   1349.850  ...  802       57.74       19.38       18.74        0.00   \n",
       "8    492.223  ...  315       21.03      910.65      122.16        0.00   \n",
       "21   597.753  ...  720        0.00        0.00        0.00        0.00   \n",
       "23   193.897  ...  604       40.45       51.86        0.00        0.00   \n",
       "\n",
       "    total_rech_amt_data_6  total_rech_amt_data_7  total_rech_amt_data_8  \\\n",
       "0                   252.0                  252.0                  252.0   \n",
       "7                     0.0                    0.0                    0.0   \n",
       "8                     0.0                  354.0                  207.0   \n",
       "21                    0.0                    0.0                    0.0   \n",
       "23                    0.0                  712.0                  540.0   \n",
       "\n",
       "    total_avg_rech_amnt_6_7_GPhase  churn  \n",
       "0                            559.0      1  \n",
       "7                           1185.0      1  \n",
       "8                            696.0      0  \n",
       "21                           640.0      0  \n",
       "23                           583.0      0  \n",
       "\n",
       "[5 rows x 177 columns]"
      ]
     },
     "execution_count": 23,
     "metadata": {},
     "output_type": "execute_result"
    }
   ],
   "source": [
    "telecom_high_val_cust.head()"
   ]
  },
  {
   "cell_type": "code",
   "execution_count": 24,
   "id": "f927da70",
   "metadata": {},
   "outputs": [
    {
     "data": {
      "text/html": [
       "<div>\n",
       "<style scoped>\n",
       "    .dataframe tbody tr th:only-of-type {\n",
       "        vertical-align: middle;\n",
       "    }\n",
       "\n",
       "    .dataframe tbody tr th {\n",
       "        vertical-align: top;\n",
       "    }\n",
       "\n",
       "    .dataframe thead th {\n",
       "        text-align: right;\n",
       "    }\n",
       "</style>\n",
       "<table border=\"1\" class=\"dataframe\">\n",
       "  <thead>\n",
       "    <tr style=\"text-align: right;\">\n",
       "      <th></th>\n",
       "      <th>circle_id</th>\n",
       "      <th>loc_og_t2o_mou</th>\n",
       "      <th>std_og_t2o_mou</th>\n",
       "      <th>loc_ic_t2o_mou</th>\n",
       "      <th>last_date_of_month_6</th>\n",
       "      <th>last_date_of_month_7</th>\n",
       "      <th>last_date_of_month_8</th>\n",
       "      <th>std_og_t2c_mou_6</th>\n",
       "      <th>std_og_t2c_mou_7</th>\n",
       "      <th>std_og_t2c_mou_8</th>\n",
       "      <th>std_ic_t2o_mou_6</th>\n",
       "      <th>std_ic_t2o_mou_7</th>\n",
       "      <th>std_ic_t2o_mou_8</th>\n",
       "    </tr>\n",
       "  </thead>\n",
       "  <tbody>\n",
       "    <tr>\n",
       "      <th>0</th>\n",
       "      <td>109</td>\n",
       "      <td>0.0</td>\n",
       "      <td>0.0</td>\n",
       "      <td>0.0</td>\n",
       "      <td>6/30/2014</td>\n",
       "      <td>7/31/2014</td>\n",
       "      <td>8/31/2014</td>\n",
       "      <td>NaN</td>\n",
       "      <td>NaN</td>\n",
       "      <td>0.0</td>\n",
       "      <td>NaN</td>\n",
       "      <td>NaN</td>\n",
       "      <td>0.0</td>\n",
       "    </tr>\n",
       "    <tr>\n",
       "      <th>7</th>\n",
       "      <td>109</td>\n",
       "      <td>0.0</td>\n",
       "      <td>0.0</td>\n",
       "      <td>0.0</td>\n",
       "      <td>6/30/2014</td>\n",
       "      <td>7/31/2014</td>\n",
       "      <td>8/31/2014</td>\n",
       "      <td>0.0</td>\n",
       "      <td>0.0</td>\n",
       "      <td>0.0</td>\n",
       "      <td>0.0</td>\n",
       "      <td>0.0</td>\n",
       "      <td>0.0</td>\n",
       "    </tr>\n",
       "    <tr>\n",
       "      <th>8</th>\n",
       "      <td>109</td>\n",
       "      <td>0.0</td>\n",
       "      <td>0.0</td>\n",
       "      <td>0.0</td>\n",
       "      <td>6/30/2014</td>\n",
       "      <td>7/31/2014</td>\n",
       "      <td>8/31/2014</td>\n",
       "      <td>0.0</td>\n",
       "      <td>0.0</td>\n",
       "      <td>0.0</td>\n",
       "      <td>0.0</td>\n",
       "      <td>0.0</td>\n",
       "      <td>0.0</td>\n",
       "    </tr>\n",
       "    <tr>\n",
       "      <th>21</th>\n",
       "      <td>109</td>\n",
       "      <td>0.0</td>\n",
       "      <td>0.0</td>\n",
       "      <td>0.0</td>\n",
       "      <td>6/30/2014</td>\n",
       "      <td>7/31/2014</td>\n",
       "      <td>8/31/2014</td>\n",
       "      <td>0.0</td>\n",
       "      <td>0.0</td>\n",
       "      <td>0.0</td>\n",
       "      <td>0.0</td>\n",
       "      <td>0.0</td>\n",
       "      <td>0.0</td>\n",
       "    </tr>\n",
       "    <tr>\n",
       "      <th>23</th>\n",
       "      <td>109</td>\n",
       "      <td>0.0</td>\n",
       "      <td>0.0</td>\n",
       "      <td>0.0</td>\n",
       "      <td>6/30/2014</td>\n",
       "      <td>7/31/2014</td>\n",
       "      <td>8/31/2014</td>\n",
       "      <td>0.0</td>\n",
       "      <td>0.0</td>\n",
       "      <td>0.0</td>\n",
       "      <td>0.0</td>\n",
       "      <td>0.0</td>\n",
       "      <td>0.0</td>\n",
       "    </tr>\n",
       "  </tbody>\n",
       "</table>\n",
       "</div>"
      ],
      "text/plain": [
       "    circle_id  loc_og_t2o_mou  std_og_t2o_mou  loc_ic_t2o_mou  \\\n",
       "0         109             0.0             0.0             0.0   \n",
       "7         109             0.0             0.0             0.0   \n",
       "8         109             0.0             0.0             0.0   \n",
       "21        109             0.0             0.0             0.0   \n",
       "23        109             0.0             0.0             0.0   \n",
       "\n",
       "   last_date_of_month_6 last_date_of_month_7 last_date_of_month_8  \\\n",
       "0             6/30/2014            7/31/2014            8/31/2014   \n",
       "7             6/30/2014            7/31/2014            8/31/2014   \n",
       "8             6/30/2014            7/31/2014            8/31/2014   \n",
       "21            6/30/2014            7/31/2014            8/31/2014   \n",
       "23            6/30/2014            7/31/2014            8/31/2014   \n",
       "\n",
       "    std_og_t2c_mou_6  std_og_t2c_mou_7  std_og_t2c_mou_8  std_ic_t2o_mou_6  \\\n",
       "0                NaN               NaN               0.0               NaN   \n",
       "7                0.0               0.0               0.0               0.0   \n",
       "8                0.0               0.0               0.0               0.0   \n",
       "21               0.0               0.0               0.0               0.0   \n",
       "23               0.0               0.0               0.0               0.0   \n",
       "\n",
       "    std_ic_t2o_mou_7  std_ic_t2o_mou_8  \n",
       "0                NaN               0.0  \n",
       "7                0.0               0.0  \n",
       "8                0.0               0.0  \n",
       "21               0.0               0.0  \n",
       "23               0.0               0.0  "
      ]
     },
     "execution_count": 24,
     "metadata": {},
     "output_type": "execute_result"
    }
   ],
   "source": [
    "# Data Cleaning and EDA\n",
    "# Remove Data which has only 1 unique Value\n",
    "#List of columns with only 1 unqiue value\n",
    "col_list = telecom_high_val_cust.loc[:,telecom_high_val_cust.apply(pd.Series.nunique) == 1]\n",
    "col_list.head(5)"
   ]
  },
  {
   "cell_type": "code",
   "execution_count": 25,
   "id": "82f25c81",
   "metadata": {},
   "outputs": [
    {
     "data": {
      "text/plain": [
       "(29953, 164)"
      ]
     },
     "execution_count": 25,
     "metadata": {},
     "output_type": "execute_result"
    }
   ],
   "source": [
    "telecom_high_val_cust = telecom_high_val_cust.loc[:,telecom_high_val_cust.apply(pd.Series.nunique) != 1]\n",
    "telecom_high_val_cust.shape"
   ]
  },
  {
   "cell_type": "code",
   "execution_count": 26,
   "id": "1e0bba60",
   "metadata": {},
   "outputs": [
    {
     "name": "stdout",
     "output_type": "stream",
     "text": [
      "date_of_last_rech_6         6/21/2014\n",
      "date_of_last_rech_7         7/16/2014\n",
      "date_of_last_rech_8          8/8/2014\n",
      "date_of_last_rech_data_6    6/21/2014\n",
      "date_of_last_rech_data_7    7/16/2014\n",
      "date_of_last_rech_data_8     8/8/2014\n",
      "Name: 0, dtype: object\n"
     ]
    }
   ],
   "source": [
    "# Check Columns that can be changed to integers, floats or other types\n",
    "object_col_data = telecom_high_val_cust.select_dtypes(include=['object'])\n",
    "print(object_col_data.iloc[0])"
   ]
  },
  {
   "cell_type": "code",
   "execution_count": 27,
   "id": "d211fbdc",
   "metadata": {},
   "outputs": [
    {
     "data": {
      "text/plain": [
       "(29953, 164)"
      ]
     },
     "execution_count": 27,
     "metadata": {},
     "output_type": "execute_result"
    }
   ],
   "source": [
    "# convert to datetime\n",
    "for col in object_col_data.columns:\n",
    "    telecom_high_val_cust[col] = pd.to_datetime(telecom_high_val_cust[col])\n",
    "\n",
    "telecom_high_val_cust.shape"
   ]
  },
  {
   "cell_type": "code",
   "execution_count": 28,
   "id": "63f945dc",
   "metadata": {},
   "outputs": [],
   "source": [
    "# create box plot for  6th, 7th and 8th month\n",
    "def plot_box_chart(attribute):\n",
    "    plt.figure(figsize=(20,16))\n",
    "    df = telecom_high_val_cust\n",
    "    plt.subplot(2,3,1)\n",
    "    sns.boxplot(data=df, y=attribute+\"_6\",x=\"churn\",hue=\"churn\",\n",
    "                showfliers=False,palette=(\"plasma\"))\n",
    "    plt.subplot(2,3,2)\n",
    "    sns.boxplot(data=df, y=attribute+\"_7\",x=\"churn\",hue=\"churn\",\n",
    "                showfliers=False,palette=(\"plasma\"))\n",
    "    plt.subplot(2,3,3)\n",
    "    sns.boxplot(data=df, y=attribute+\"_8\",x=\"churn\",hue=\"churn\",\n",
    "                showfliers=False,palette=(\"plasma\"))\n",
    "    plt.show()"
   ]
  },
  {
   "cell_type": "code",
   "execution_count": 29,
   "id": "0a99c041",
   "metadata": {},
   "outputs": [
    {
     "data": {
      "text/plain": [
       "['total_rech_amt_6',\n",
       " 'total_rech_amt_7',\n",
       " 'total_rech_amt_8',\n",
       " 'max_rech_amt_6',\n",
       " 'max_rech_amt_7',\n",
       " 'max_rech_amt_8',\n",
       " 'av_rech_amt_data_6',\n",
       " 'av_rech_amt_data_7',\n",
       " 'av_rech_amt_data_8',\n",
       " 'total_rech_amt_data_6',\n",
       " 'total_rech_amt_data_7',\n",
       " 'total_rech_amt_data_8']"
      ]
     },
     "execution_count": 29,
     "metadata": {},
     "output_type": "execute_result"
    }
   ],
   "source": [
    "# Recharge amount related variables\n",
    "recharge_amnt_columns =  telecom_high_val_cust.columns[telecom_high_val_cust.columns.str.contains('rech_amt')]\n",
    "recharge_amnt_columns.tolist()"
   ]
  },
  {
   "cell_type": "code",
   "execution_count": 30,
   "id": "884be7ae",
   "metadata": {},
   "outputs": [
    {
     "data": {
      "image/png": "[encoded data removed]",
      "text/plain": [
       "<Figure size 1440x1152 with 3 Axes>"
      ]
     },
     "metadata": {
      "needs_background": "light"
     },
     "output_type": "display_data"
    }
   ],
   "source": [
    "# Ploting for total recharge amount:\n",
    "plot_box_chart('total_rech_amt')"
   ]
  },
  {
   "cell_type": "code",
   "execution_count": 31,
   "id": "6d84f692",
   "metadata": {},
   "outputs": [
    {
     "data": {
      "image/png": "[encoded data removed]",
      "text/plain": [
       "<Figure size 1440x1152 with 3 Axes>"
      ]
     },
     "metadata": {
      "needs_background": "light"
     },
     "output_type": "display_data"
    }
   ],
   "source": [
    "# We can see a drop in the total recharge amount for churned customers in the 8th Month (Action Phase)\n",
    "# Ploting for total recharge amount for data:\n",
    "plot_box_chart('total_rech_amt_data')"
   ]
  },
  {
   "cell_type": "code",
   "execution_count": 32,
   "id": "b9197d5e",
   "metadata": {},
   "outputs": [
    {
     "data": {
      "image/png": "[encoded data removed]",
      "text/plain": [
       "<Figure size 1440x1152 with 3 Axes>"
      ]
     },
     "metadata": {
      "needs_background": "light"
     },
     "output_type": "display_data"
    }
   ],
   "source": [
    "# We can see that there is a huge drop in total recharge amount for data in the 8th month (action phase) for churned customers.\n",
    "# Ploting for maximum recharge amount for data:\n",
    "plot_box_chart('max_rech_amt')"
   ]
  },
  {
   "cell_type": "code",
   "execution_count": 33,
   "id": "02249f75",
   "metadata": {},
   "outputs": [],
   "source": [
    "# We can see that there is a huge drop in maximum recharge amount for data in the 8th month (action phase) for churned customers.\n",
    "# Let's check other recharge related variables:\n",
    "other_recharge = telecom_high_val_cust.columns[telecom_high_val_cust.columns.str.contains('rech_num|max_rech_data',regex=True)]"
   ]
  },
  {
   "cell_type": "code",
   "execution_count": 34,
   "id": "b917e355",
   "metadata": {},
   "outputs": [
    {
     "data": {
      "text/plain": [
       "total_rech_num_6     0.000000\n",
       "total_rech_num_7     0.000000\n",
       "total_rech_num_8     0.000000\n",
       "max_rech_data_6     44.112443\n",
       "max_rech_data_7     43.117551\n",
       "max_rech_data_8     46.799987\n",
       "dtype: float64"
      ]
     },
     "execution_count": 34,
     "metadata": {},
     "output_type": "execute_result"
    }
   ],
   "source": [
    "# lets check the % of NA values for other recharge related variables\n",
    "100*telecom_high_val_cust.loc[:,other_recharge].isnull().sum()/len(telecom_high_val_cust)"
   ]
  },
  {
   "cell_type": "code",
   "execution_count": 35,
   "id": "75fb9ced",
   "metadata": {},
   "outputs": [
    {
     "data": {
      "text/html": [
       "<div>\n",
       "<style scoped>\n",
       "    .dataframe tbody tr th:only-of-type {\n",
       "        vertical-align: middle;\n",
       "    }\n",
       "\n",
       "    .dataframe tbody tr th {\n",
       "        vertical-align: top;\n",
       "    }\n",
       "\n",
       "    .dataframe thead th {\n",
       "        text-align: right;\n",
       "    }\n",
       "</style>\n",
       "<table border=\"1\" class=\"dataframe\">\n",
       "  <thead>\n",
       "    <tr style=\"text-align: right;\">\n",
       "      <th></th>\n",
       "      <th>max_rech_data_6</th>\n",
       "      <th>max_rech_data_7</th>\n",
       "      <th>max_rech_data_8</th>\n",
       "    </tr>\n",
       "  </thead>\n",
       "  <tbody>\n",
       "    <tr>\n",
       "      <th>count</th>\n",
       "      <td>16740.000000</td>\n",
       "      <td>17038.000000</td>\n",
       "      <td>15935.000000</td>\n",
       "    </tr>\n",
       "    <tr>\n",
       "      <th>mean</th>\n",
       "      <td>139.804002</td>\n",
       "      <td>140.444712</td>\n",
       "      <td>136.353373</td>\n",
       "    </tr>\n",
       "    <tr>\n",
       "      <th>std</th>\n",
       "      <td>118.892926</td>\n",
       "      <td>120.295284</td>\n",
       "      <td>119.571138</td>\n",
       "    </tr>\n",
       "    <tr>\n",
       "      <th>min</th>\n",
       "      <td>1.000000</td>\n",
       "      <td>1.000000</td>\n",
       "      <td>1.000000</td>\n",
       "    </tr>\n",
       "    <tr>\n",
       "      <th>25%</th>\n",
       "      <td>25.000000</td>\n",
       "      <td>25.000000</td>\n",
       "      <td>25.000000</td>\n",
       "    </tr>\n",
       "    <tr>\n",
       "      <th>50%</th>\n",
       "      <td>152.000000</td>\n",
       "      <td>152.000000</td>\n",
       "      <td>152.000000</td>\n",
       "    </tr>\n",
       "    <tr>\n",
       "      <th>75%</th>\n",
       "      <td>198.000000</td>\n",
       "      <td>198.000000</td>\n",
       "      <td>198.000000</td>\n",
       "    </tr>\n",
       "    <tr>\n",
       "      <th>max</th>\n",
       "      <td>1555.000000</td>\n",
       "      <td>1555.000000</td>\n",
       "      <td>1555.000000</td>\n",
       "    </tr>\n",
       "  </tbody>\n",
       "</table>\n",
       "</div>"
      ],
      "text/plain": [
       "       max_rech_data_6  max_rech_data_7  max_rech_data_8\n",
       "count     16740.000000     17038.000000     15935.000000\n",
       "mean        139.804002       140.444712       136.353373\n",
       "std         118.892926       120.295284       119.571138\n",
       "min           1.000000         1.000000         1.000000\n",
       "25%          25.000000        25.000000        25.000000\n",
       "50%         152.000000       152.000000       152.000000\n",
       "75%         198.000000       198.000000       198.000000\n",
       "max        1555.000000      1555.000000      1555.000000"
      ]
     },
     "execution_count": 35,
     "metadata": {},
     "output_type": "execute_result"
    }
   ],
   "source": [
    "telecom_high_val_cust.loc[:,['max_rech_data_6','max_rech_data_7','max_rech_data_8']].describe()"
   ]
  },
  {
   "cell_type": "code",
   "execution_count": 36,
   "id": "2b7393ec",
   "metadata": {},
   "outputs": [],
   "source": [
    "# We see that the minimum value is 1 while the max is 1555 across months, which indicate the missing values are where no recharges happened for the data, Filling the missing values by 0 , means no recharge.\n",
    "telecom_high_val_cust.loc[:,['max_rech_data_6','max_rech_data_7','max_rech_data_8']] \\\n",
    "= telecom_high_val_cust.loc[:,['max_rech_data_6','max_rech_data_7','max_rech_data_8']].replace(np.nan,0)"
   ]
  },
  {
   "cell_type": "code",
   "execution_count": 37,
   "id": "707193dc",
   "metadata": {},
   "outputs": [
    {
     "data": {
      "image/png": "[encoded data removed]",
      "text/plain": [
       "<Figure size 1440x1152 with 3 Axes>"
      ]
     },
     "metadata": {
      "needs_background": "light"
     },
     "output_type": "display_data"
    }
   ],
   "source": [
    "# Ploting for Total recharge for Number:\n",
    "plot_box_chart('total_rech_num')"
   ]
  },
  {
   "cell_type": "code",
   "execution_count": 38,
   "id": "74762fca",
   "metadata": {},
   "outputs": [
    {
     "data": {
      "text/plain": [
       "['monthly_2g_6',\n",
       " 'monthly_2g_7',\n",
       " 'monthly_2g_8',\n",
       " 'monthly_3g_6',\n",
       " 'monthly_3g_7',\n",
       " 'monthly_3g_8']"
      ]
     },
     "execution_count": 38,
     "metadata": {},
     "output_type": "execute_result"
    }
   ],
   "source": [
    "# We can see that there is a huge drop in total recharge number in the 8th month (action phase) for churned customers.\n",
    "# 2G and 3G usage related attributes\n",
    "# let's check monthly 2G/3G service schemes\n",
    "monthly_subcription_2g_3g = telecom_high_val_cust.columns[telecom_high_val_cust.columns.str.contains('monthly_2g|monthly_3g',regex=True)]\n",
    "monthly_subcription_2g_3g.tolist()"
   ]
  },
  {
   "cell_type": "code",
   "execution_count": 39,
   "id": "17d7dd3e",
   "metadata": {},
   "outputs": [
    {
     "data": {
      "text/plain": [
       "monthly_2g_6    0.0\n",
       "monthly_2g_7    0.0\n",
       "monthly_2g_8    0.0\n",
       "monthly_3g_6    0.0\n",
       "monthly_3g_7    0.0\n",
       "monthly_3g_8    0.0\n",
       "dtype: float64"
      ]
     },
     "execution_count": 39,
     "metadata": {},
     "output_type": "execute_result"
    }
   ],
   "source": [
    "#Checking Null value\n",
    "100*telecom_high_val_cust.loc[:,monthly_subcription_2g_3g].isnull().sum()/len(telecom_high_val_cust.loc[:,monthly_subcription_2g_3g])"
   ]
  },
  {
   "cell_type": "code",
   "execution_count": 40,
   "id": "f15f59f3",
   "metadata": {},
   "outputs": [],
   "source": [
    "# Minutes of usage - voice calls\n",
    "mou_cols = telecom_high_val_cust.columns[telecom_high_val_cust.columns.str.contains('mou')]"
   ]
  },
  {
   "cell_type": "code",
   "execution_count": 41,
   "id": "3417489d",
   "metadata": {},
   "outputs": [
    {
     "data": {
      "text/plain": [
       "onnet_mou_6     1.809502\n",
       "onnet_mou_7     1.789470\n",
       "onnet_mou_8     3.912797\n",
       "offnet_mou_6    1.809502\n",
       "offnet_mou_7    1.789470\n",
       "                  ...   \n",
       "spl_ic_mou_7    1.789470\n",
       "spl_ic_mou_8    3.912797\n",
       "isd_ic_mou_6    1.809502\n",
       "isd_ic_mou_7    1.789470\n",
       "isd_ic_mou_8    3.912797\n",
       "Length: 81, dtype: float64"
      ]
     },
     "execution_count": 41,
     "metadata": {},
     "output_type": "execute_result"
    }
   ],
   "source": [
    "#Checking Null value\n",
    "100*telecom_high_val_cust.loc[:,mou_cols].isnull().sum()/len(telecom_high_val_cust.loc[:,mou_cols])"
   ]
  },
  {
   "cell_type": "code",
   "execution_count": 42,
   "id": "605baf25",
   "metadata": {},
   "outputs": [],
   "source": [
    "# So for all minutes of usage columns the maximum missing % is 3.91 , means in these case the customer has not been used at all for that particular call type, thus we can fill the missing values with zero\n",
    "# replaceing null values by 0 for minutes of usage variables\n",
    "telecom_high_val_cust.loc[:,mou_cols] = telecom_high_val_cust.loc[:,mou_cols].replace(np.NaN,0)"
   ]
  },
  {
   "cell_type": "code",
   "execution_count": 43,
   "id": "eedeb06a",
   "metadata": {},
   "outputs": [],
   "source": [
    "mou_og_cols6 = telecom_high_val_cust.columns[telecom_high_val_cust.columns.str.contains('.*_og_.*mou_6',regex=True)]"
   ]
  },
  {
   "cell_type": "code",
   "execution_count": 44,
   "id": "af275e42",
   "metadata": {},
   "outputs": [
    {
     "data": {
      "text/html": [
       "<div>\n",
       "<style scoped>\n",
       "    .dataframe tbody tr th:only-of-type {\n",
       "        vertical-align: middle;\n",
       "    }\n",
       "\n",
       "    .dataframe tbody tr th {\n",
       "        vertical-align: top;\n",
       "    }\n",
       "\n",
       "    .dataframe thead th {\n",
       "        text-align: right;\n",
       "    }\n",
       "</style>\n",
       "<table border=\"1\" class=\"dataframe\">\n",
       "  <thead>\n",
       "    <tr style=\"text-align: right;\">\n",
       "      <th></th>\n",
       "      <th>roam_og_mou_6</th>\n",
       "      <th>loc_og_t2t_mou_6</th>\n",
       "      <th>loc_og_t2m_mou_6</th>\n",
       "      <th>loc_og_t2f_mou_6</th>\n",
       "      <th>loc_og_t2c_mou_6</th>\n",
       "      <th>loc_og_mou_6</th>\n",
       "      <th>std_og_t2t_mou_6</th>\n",
       "      <th>std_og_t2m_mou_6</th>\n",
       "      <th>std_og_t2f_mou_6</th>\n",
       "      <th>std_og_mou_6</th>\n",
       "      <th>isd_og_mou_6</th>\n",
       "      <th>spl_og_mou_6</th>\n",
       "      <th>total_og_mou_6</th>\n",
       "    </tr>\n",
       "  </thead>\n",
       "  <tbody>\n",
       "    <tr>\n",
       "      <th>count</th>\n",
       "      <td>29953.000000</td>\n",
       "      <td>29953.000000</td>\n",
       "      <td>29953.000000</td>\n",
       "      <td>29953.000000</td>\n",
       "      <td>29953.000000</td>\n",
       "      <td>29953.000000</td>\n",
       "      <td>29953.000000</td>\n",
       "      <td>29953.000000</td>\n",
       "      <td>29953.000000</td>\n",
       "      <td>29953.000000</td>\n",
       "      <td>29953.000000</td>\n",
       "      <td>29953.000000</td>\n",
       "      <td>29953.000000</td>\n",
       "    </tr>\n",
       "    <tr>\n",
       "      <th>mean</th>\n",
       "      <td>26.596033</td>\n",
       "      <td>84.574122</td>\n",
       "      <td>163.309546</td>\n",
       "      <td>6.348347</td>\n",
       "      <td>1.577380</td>\n",
       "      <td>254.240239</td>\n",
       "      <td>165.897941</td>\n",
       "      <td>179.439168</td>\n",
       "      <td>1.806292</td>\n",
       "      <td>347.147123</td>\n",
       "      <td>2.174995</td>\n",
       "      <td>5.825077</td>\n",
       "      <td>610.058005</td>\n",
       "    </tr>\n",
       "    <tr>\n",
       "      <th>std</th>\n",
       "      <td>116.274169</td>\n",
       "      <td>228.962993</td>\n",
       "      <td>250.218928</td>\n",
       "      <td>22.139546</td>\n",
       "      <td>6.308138</td>\n",
       "      <td>378.546516</td>\n",
       "      <td>403.990737</td>\n",
       "      <td>409.143255</td>\n",
       "      <td>11.988810</td>\n",
       "      <td>608.845412</td>\n",
       "      <td>45.888834</td>\n",
       "      <td>17.579228</td>\n",
       "      <td>691.178402</td>\n",
       "    </tr>\n",
       "    <tr>\n",
       "      <th>min</th>\n",
       "      <td>0.000000</td>\n",
       "      <td>0.000000</td>\n",
       "      <td>0.000000</td>\n",
       "      <td>0.000000</td>\n",
       "      <td>0.000000</td>\n",
       "      <td>0.000000</td>\n",
       "      <td>0.000000</td>\n",
       "      <td>0.000000</td>\n",
       "      <td>0.000000</td>\n",
       "      <td>0.000000</td>\n",
       "      <td>0.000000</td>\n",
       "      <td>0.000000</td>\n",
       "      <td>0.000000</td>\n",
       "    </tr>\n",
       "    <tr>\n",
       "      <th>25%</th>\n",
       "      <td>0.000000</td>\n",
       "      <td>4.380000</td>\n",
       "      <td>19.210000</td>\n",
       "      <td>0.000000</td>\n",
       "      <td>0.000000</td>\n",
       "      <td>32.260000</td>\n",
       "      <td>0.000000</td>\n",
       "      <td>0.000000</td>\n",
       "      <td>0.000000</td>\n",
       "      <td>0.400000</td>\n",
       "      <td>0.000000</td>\n",
       "      <td>0.000000</td>\n",
       "      <td>116.640000</td>\n",
       "    </tr>\n",
       "    <tr>\n",
       "      <th>50%</th>\n",
       "      <td>0.000000</td>\n",
       "      <td>24.360000</td>\n",
       "      <td>77.260000</td>\n",
       "      <td>0.000000</td>\n",
       "      <td>0.000000</td>\n",
       "      <td>124.590000</td>\n",
       "      <td>2.710000</td>\n",
       "      <td>16.360000</td>\n",
       "      <td>0.000000</td>\n",
       "      <td>45.080000</td>\n",
       "      <td>0.000000</td>\n",
       "      <td>0.230000</td>\n",
       "      <td>410.630000</td>\n",
       "    </tr>\n",
       "    <tr>\n",
       "      <th>75%</th>\n",
       "      <td>0.000000</td>\n",
       "      <td>78.060000</td>\n",
       "      <td>209.030000</td>\n",
       "      <td>4.230000</td>\n",
       "      <td>0.000000</td>\n",
       "      <td>332.310000</td>\n",
       "      <td>109.560000</td>\n",
       "      <td>154.540000</td>\n",
       "      <td>0.000000</td>\n",
       "      <td>465.290000</td>\n",
       "      <td>0.000000</td>\n",
       "      <td>5.210000</td>\n",
       "      <td>859.030000</td>\n",
       "    </tr>\n",
       "    <tr>\n",
       "      <th>max</th>\n",
       "      <td>3775.110000</td>\n",
       "      <td>6431.330000</td>\n",
       "      <td>4729.740000</td>\n",
       "      <td>1466.030000</td>\n",
       "      <td>271.440000</td>\n",
       "      <td>10643.380000</td>\n",
       "      <td>7366.580000</td>\n",
       "      <td>8314.760000</td>\n",
       "      <td>628.560000</td>\n",
       "      <td>8432.990000</td>\n",
       "      <td>5900.660000</td>\n",
       "      <td>1023.210000</td>\n",
       "      <td>10674.030000</td>\n",
       "    </tr>\n",
       "  </tbody>\n",
       "</table>\n",
       "</div>"
      ],
      "text/plain": [
       "       roam_og_mou_6  loc_og_t2t_mou_6  loc_og_t2m_mou_6  loc_og_t2f_mou_6  \\\n",
       "count   29953.000000      29953.000000      29953.000000      29953.000000   \n",
       "mean       26.596033         84.574122        163.309546          6.348347   \n",
       "std       116.274169        228.962993        250.218928         22.139546   \n",
       "min         0.000000          0.000000          0.000000          0.000000   \n",
       "25%         0.000000          4.380000         19.210000          0.000000   \n",
       "50%         0.000000         24.360000         77.260000          0.000000   \n",
       "75%         0.000000         78.060000        209.030000          4.230000   \n",
       "max      3775.110000       6431.330000       4729.740000       1466.030000   \n",
       "\n",
       "       loc_og_t2c_mou_6  loc_og_mou_6  std_og_t2t_mou_6  std_og_t2m_mou_6  \\\n",
       "count      29953.000000  29953.000000      29953.000000      29953.000000   \n",
       "mean           1.577380    254.240239        165.897941        179.439168   \n",
       "std            6.308138    378.546516        403.990737        409.143255   \n",
       "min            0.000000      0.000000          0.000000          0.000000   \n",
       "25%            0.000000     32.260000          0.000000          0.000000   \n",
       "50%            0.000000    124.590000          2.710000         16.360000   \n",
       "75%            0.000000    332.310000        109.560000        154.540000   \n",
       "max          271.440000  10643.380000       7366.580000       8314.760000   \n",
       "\n",
       "       std_og_t2f_mou_6  std_og_mou_6  isd_og_mou_6  spl_og_mou_6  \\\n",
       "count      29953.000000  29953.000000  29953.000000  29953.000000   \n",
       "mean           1.806292    347.147123      2.174995      5.825077   \n",
       "std           11.988810    608.845412     45.888834     17.579228   \n",
       "min            0.000000      0.000000      0.000000      0.000000   \n",
       "25%            0.000000      0.400000      0.000000      0.000000   \n",
       "50%            0.000000     45.080000      0.000000      0.230000   \n",
       "75%            0.000000    465.290000      0.000000      5.210000   \n",
       "max          628.560000   8432.990000   5900.660000   1023.210000   \n",
       "\n",
       "       total_og_mou_6  \n",
       "count    29953.000000  \n",
       "mean       610.058005  \n",
       "std        691.178402  \n",
       "min          0.000000  \n",
       "25%        116.640000  \n",
       "50%        410.630000  \n",
       "75%        859.030000  \n",
       "max      10674.030000  "
      ]
     },
     "execution_count": 44,
     "metadata": {},
     "output_type": "execute_result"
    }
   ],
   "source": [
    "telecom_high_val_cust.loc[:,mou_og_cols6].describe()"
   ]
  },
  {
   "cell_type": "code",
   "execution_count": 45,
   "id": "9f7de081",
   "metadata": {},
   "outputs": [],
   "source": [
    "# Plotting Heat Map\n",
    "def heatmap(x,y,dataframe):\n",
    "    plt.figure(figsize=(x,y))\n",
    "    sns.heatmap(dataframe.corr(),cmap=\"OrRd\",annot=True)\n",
    "    plt.show()"
   ]
  },
  {
   "cell_type": "code",
   "execution_count": 46,
   "id": "c00ed9b3",
   "metadata": {},
   "outputs": [
    {
     "data": {
      "image/png": "[encoded data removed]",
      "text/plain": [
       "<Figure size 1296x864 with 2 Axes>"
      ]
     },
     "metadata": {
      "needs_background": "light"
     },
     "output_type": "display_data"
    }
   ],
   "source": [
    "heatmap(18,12,telecom_high_val_cust.filter(mou_og_cols6))"
   ]
  },
  {
   "cell_type": "code",
   "execution_count": 47,
   "id": "7ef09722",
   "metadata": {},
   "outputs": [],
   "source": [
    "#Dropping highly corelated attributes\n",
    "\n",
    "list_total_og_cols = telecom_high_val_cust.columns[telecom_high_val_cust.columns.str.contains('total_og_mou|std_og_mou|loc_og_mou',regex=True)]\n",
    "telecom_high_val_cust.drop(list_total_og_cols,axis=1,inplace=True)"
   ]
  },
  {
   "cell_type": "code",
   "execution_count": 48,
   "id": "02aa7535",
   "metadata": {},
   "outputs": [
    {
     "data": {
      "image/png": "[encoded data removed]",
      "text/plain": [
       "<Figure size 1296x864 with 2 Axes>"
      ]
     },
     "metadata": {
      "needs_background": "light"
     },
     "output_type": "display_data"
    }
   ],
   "source": [
    "heatmap(18,12,telecom_high_val_cust.filter(mou_og_cols6))"
   ]
  },
  {
   "cell_type": "code",
   "execution_count": 49,
   "id": "1bf9cd43",
   "metadata": {},
   "outputs": [],
   "source": [
    "mou_ic_cols6 = telecom_high_val_cust.columns[telecom_high_val_cust.columns.str.contains('.*_ic_.*mou_6',regex=True)]"
   ]
  },
  {
   "cell_type": "code",
   "execution_count": 50,
   "id": "8ba49bd1",
   "metadata": {},
   "outputs": [
    {
     "data": {
      "image/png": "[encoded data removed]",
      "text/plain": [
       "<Figure size 1296x864 with 2 Axes>"
      ]
     },
     "metadata": {
      "needs_background": "light"
     },
     "output_type": "display_data"
    }
   ],
   "source": [
    "heatmap(18,12,telecom_high_val_cust.filter(mou_ic_cols6))"
   ]
  },
  {
   "cell_type": "code",
   "execution_count": 51,
   "id": "ead1b554",
   "metadata": {},
   "outputs": [],
   "source": [
    "#Dropping highly corelated attributes\n",
    "list_total_ic_cols = telecom_high_val_cust.columns[telecom_high_val_cust.columns.str.contains('total_ic_mou|std_ic_mou|loc_ic_mou',regex=True)]\n",
    "telecom_high_val_cust.drop(list_total_ic_cols,axis=1,inplace=True)"
   ]
  },
  {
   "cell_type": "code",
   "execution_count": 52,
   "id": "d09c5ed7",
   "metadata": {},
   "outputs": [
    {
     "data": {
      "image/png": "[encoded data removed]",
      "text/plain": [
       "<Figure size 1296x864 with 2 Axes>"
      ]
     },
     "metadata": {
      "needs_background": "light"
     },
     "output_type": "display_data"
    }
   ],
   "source": [
    "heatmap(18,12,telecom_high_val_cust.filter(mou_ic_cols6))"
   ]
  },
  {
   "cell_type": "code",
   "execution_count": 53,
   "id": "1009667c",
   "metadata": {},
   "outputs": [],
   "source": [
    "# Tenure Analysis for Customers\n",
    "tenure_data = telecom_high_val_cust.copy()\n",
    "tenure_data['tenure'] = tenure_data['aon']/30"
   ]
  },
  {
   "cell_type": "code",
   "execution_count": 54,
   "id": "12c58722",
   "metadata": {},
   "outputs": [
    {
     "data": {
      "text/plain": [
       "0         2-5 Yrs\n",
       "7         2-5 Yrs\n",
       "8     6-12 Months\n",
       "21        1-2 Yrs\n",
       "23        1-2 Yrs\n",
       "Name: tenure_range, dtype: category\n",
       "Categories (5, object): ['0-6 Months' < '6-12 Months' < '1-2 Yrs' < '2-5 Yrs' < '5 Yrs and above']"
      ]
     },
     "execution_count": 54,
     "metadata": {},
     "output_type": "execute_result"
    }
   ],
   "source": [
    "tn_range = [0, 6, 12, 24, 60, 61]\n",
    "tn_label = [ '0-6 Months', '6-12 Months', '1-2 Yrs', '2-5 Yrs', '5 Yrs and above']\n",
    "tenure_data['tenure_range'] = pd.cut(tenure_data['tenure'], tn_range, labels=tn_label)\n",
    "tenure_data['tenure_range'].head()"
   ]
  },
  {
   "cell_type": "code",
   "execution_count": 55,
   "id": "bfaa4737",
   "metadata": {},
   "outputs": [
    {
     "data": {
      "image/png": "[encoded data removed]",
      "text/plain": [
       "<Figure size 1008x576 with 1 Axes>"
      ]
     },
     "metadata": {
      "needs_background": "light"
     },
     "output_type": "display_data"
    }
   ],
   "source": [
    "plt.figure(figsize=(14,8))\n",
    "sns.countplot(x = 'tenure_range', hue = 'churn',data = tenure_data)\n",
    "plt.show()"
   ]
  },
  {
   "cell_type": "code",
   "execution_count": 56,
   "id": "e8bee0fb",
   "metadata": {},
   "outputs": [
    {
     "data": {
      "text/plain": [
       "date_of_last_rech_data_6    date_of_last_rech_data_6\n",
       "date_of_last_rech_data_7    date_of_last_rech_data_7\n",
       "date_of_last_rech_data_8    date_of_last_rech_data_8\n",
       "count_rech_2g_6                      count_rech_2g_6\n",
       "count_rech_2g_7                      count_rech_2g_7\n",
       "count_rech_2g_8                      count_rech_2g_8\n",
       "count_rech_3g_6                      count_rech_3g_6\n",
       "count_rech_3g_7                      count_rech_3g_7\n",
       "count_rech_3g_8                      count_rech_3g_8\n",
       "arpu_3g_6                                  arpu_3g_6\n",
       "arpu_3g_7                                  arpu_3g_7\n",
       "arpu_3g_8                                  arpu_3g_8\n",
       "arpu_2g_6                                  arpu_2g_6\n",
       "arpu_2g_7                                  arpu_2g_7\n",
       "arpu_2g_8                                  arpu_2g_8\n",
       "night_pck_user_6                    night_pck_user_6\n",
       "night_pck_user_7                    night_pck_user_7\n",
       "night_pck_user_8                    night_pck_user_8\n",
       "fb_user_6                                  fb_user_6\n",
       "fb_user_7                                  fb_user_7\n",
       "fb_user_8                                  fb_user_8\n",
       "Name: column_name, dtype: object"
      ]
     },
     "execution_count": 56,
     "metadata": {},
     "output_type": "execute_result"
    }
   ],
   "source": [
    "#Drop Columns with > 30% of missing values and not for 9th Month\n",
    "columns = telecom_high_val_cust.columns\n",
    "percent_missing = telecom_high_val_cust.isnull().sum() * 100 / len(telecom_high_val_cust)\n",
    "missing_value_df = pd.DataFrame({'column_name': columns,\n",
    "                                 'percent_missing': percent_missing})\n",
    "\n",
    "drop_col = missing_value_df.loc[(missing_value_df[\"percent_missing\"] > 30.0)][\"column_name\"]\n",
    "drop_col"
   ]
  },
  {
   "cell_type": "code",
   "execution_count": 57,
   "id": "0d893184",
   "metadata": {},
   "outputs": [
    {
     "data": {
      "text/plain": [
       "(29953, 125)"
      ]
     },
     "execution_count": 57,
     "metadata": {},
     "output_type": "execute_result"
    }
   ],
   "source": [
    "telecom_high_val_cust.drop(drop_col, axis=1, inplace=True)\n",
    "telecom_high_val_cust.shape"
   ]
  },
  {
   "cell_type": "code",
   "execution_count": 58,
   "id": "b5d26fb6",
   "metadata": {},
   "outputs": [
    {
     "data": {
      "text/html": [
       "<div>\n",
       "<style scoped>\n",
       "    .dataframe tbody tr th:only-of-type {\n",
       "        vertical-align: middle;\n",
       "    }\n",
       "\n",
       "    .dataframe tbody tr th {\n",
       "        vertical-align: top;\n",
       "    }\n",
       "\n",
       "    .dataframe thead th {\n",
       "        text-align: right;\n",
       "    }\n",
       "</style>\n",
       "<table border=\"1\" class=\"dataframe\">\n",
       "  <thead>\n",
       "    <tr style=\"text-align: right;\">\n",
       "      <th></th>\n",
       "      <th>Null_Percentage</th>\n",
       "    </tr>\n",
       "  </thead>\n",
       "  <tbody>\n",
       "    <tr>\n",
       "      <th>og_others_6</th>\n",
       "      <td>1.809502</td>\n",
       "    </tr>\n",
       "    <tr>\n",
       "      <th>og_others_7</th>\n",
       "      <td>1.789470</td>\n",
       "    </tr>\n",
       "    <tr>\n",
       "      <th>og_others_8</th>\n",
       "      <td>3.912797</td>\n",
       "    </tr>\n",
       "    <tr>\n",
       "      <th>ic_others_6</th>\n",
       "      <td>1.809502</td>\n",
       "    </tr>\n",
       "    <tr>\n",
       "      <th>ic_others_7</th>\n",
       "      <td>1.789470</td>\n",
       "    </tr>\n",
       "    <tr>\n",
       "      <th>ic_others_8</th>\n",
       "      <td>3.912797</td>\n",
       "    </tr>\n",
       "    <tr>\n",
       "      <th>date_of_last_rech_6</th>\n",
       "      <td>0.243715</td>\n",
       "    </tr>\n",
       "    <tr>\n",
       "      <th>date_of_last_rech_7</th>\n",
       "      <td>0.327179</td>\n",
       "    </tr>\n",
       "    <tr>\n",
       "      <th>date_of_last_rech_8</th>\n",
       "      <td>1.943044</td>\n",
       "    </tr>\n",
       "  </tbody>\n",
       "</table>\n",
       "</div>"
      ],
      "text/plain": [
       "                     Null_Percentage\n",
       "og_others_6                 1.809502\n",
       "og_others_7                 1.789470\n",
       "og_others_8                 3.912797\n",
       "ic_others_6                 1.809502\n",
       "ic_others_7                 1.789470\n",
       "ic_others_8                 3.912797\n",
       "date_of_last_rech_6         0.243715\n",
       "date_of_last_rech_7         0.327179\n",
       "date_of_last_rech_8         1.943044"
      ]
     },
     "execution_count": 58,
     "metadata": {},
     "output_type": "execute_result"
    }
   ],
   "source": [
    "# Checking missing values percentages if any\n",
    "\n",
    "telecom_null_check = 100*telecom_high_val_cust.loc[:].isnull().sum()/len(telecom_high_val_cust)\n",
    "df = pd.DataFrame(telecom_null_check)\n",
    "df.rename(columns={0:'Null_Percentage'}, inplace=True)\n",
    "df.loc[df['Null_Percentage']!=0]"
   ]
  },
  {
   "cell_type": "code",
   "execution_count": 59,
   "id": "60807af1",
   "metadata": {},
   "outputs": [],
   "source": [
    "# Replacing NaN values with zero for all numeric data as most of the data is clean and will not impact the analysis\n",
    "numberic_col = ['og_others_8', 'ic_others_8', 'og_others_6','ic_others_6', 'og_others_7', 'ic_others_7','date_of_last_rech_6','date_of_last_rech_7','date_of_last_rech_8']\n"
   ]
  },
  {
   "cell_type": "code",
   "execution_count": 60,
   "id": "df6bc0fa",
   "metadata": {},
   "outputs": [],
   "source": [
    "for i in numberic_col:\n",
    "    telecom_high_val_cust.loc[telecom_high_val_cust[i].isnull(),i]=0"
   ]
  },
  {
   "cell_type": "code",
   "execution_count": 61,
   "id": "527438aa",
   "metadata": {},
   "outputs": [
    {
     "name": "stdout",
     "output_type": "stream",
     "text": [
      "(29953, 125)\n"
     ]
    },
    {
     "data": {
      "text/html": [
       "<div>\n",
       "<style scoped>\n",
       "    .dataframe tbody tr th:only-of-type {\n",
       "        vertical-align: middle;\n",
       "    }\n",
       "\n",
       "    .dataframe tbody tr th {\n",
       "        vertical-align: top;\n",
       "    }\n",
       "\n",
       "    .dataframe thead th {\n",
       "        text-align: right;\n",
       "    }\n",
       "</style>\n",
       "<table border=\"1\" class=\"dataframe\">\n",
       "  <thead>\n",
       "    <tr style=\"text-align: right;\">\n",
       "      <th></th>\n",
       "      <th>mobile_number</th>\n",
       "      <th>arpu_6</th>\n",
       "      <th>arpu_7</th>\n",
       "      <th>arpu_8</th>\n",
       "      <th>onnet_mou_6</th>\n",
       "      <th>onnet_mou_7</th>\n",
       "      <th>onnet_mou_8</th>\n",
       "      <th>offnet_mou_6</th>\n",
       "      <th>offnet_mou_7</th>\n",
       "      <th>offnet_mou_8</th>\n",
       "      <th>...</th>\n",
       "      <th>aon</th>\n",
       "      <th>aug_vbc_3g</th>\n",
       "      <th>jul_vbc_3g</th>\n",
       "      <th>jun_vbc_3g</th>\n",
       "      <th>sep_vbc_3g</th>\n",
       "      <th>total_rech_amt_data_6</th>\n",
       "      <th>total_rech_amt_data_7</th>\n",
       "      <th>total_rech_amt_data_8</th>\n",
       "      <th>total_avg_rech_amnt_6_7_GPhase</th>\n",
       "      <th>churn</th>\n",
       "    </tr>\n",
       "  </thead>\n",
       "  <tbody>\n",
       "    <tr>\n",
       "      <th>0</th>\n",
       "      <td>7000842753</td>\n",
       "      <td>197.385</td>\n",
       "      <td>214.816</td>\n",
       "      <td>213.803</td>\n",
       "      <td>0.00</td>\n",
       "      <td>0.00</td>\n",
       "      <td>0.00</td>\n",
       "      <td>0.00</td>\n",
       "      <td>0.00</td>\n",
       "      <td>0.00</td>\n",
       "      <td>...</td>\n",
       "      <td>968</td>\n",
       "      <td>30.40</td>\n",
       "      <td>0.00</td>\n",
       "      <td>101.20</td>\n",
       "      <td>3.58</td>\n",
       "      <td>252.0</td>\n",
       "      <td>252.0</td>\n",
       "      <td>252.0</td>\n",
       "      <td>559.0</td>\n",
       "      <td>1</td>\n",
       "    </tr>\n",
       "    <tr>\n",
       "      <th>7</th>\n",
       "      <td>7000701601</td>\n",
       "      <td>1069.180</td>\n",
       "      <td>1349.850</td>\n",
       "      <td>3171.480</td>\n",
       "      <td>57.84</td>\n",
       "      <td>54.68</td>\n",
       "      <td>52.29</td>\n",
       "      <td>453.43</td>\n",
       "      <td>567.16</td>\n",
       "      <td>325.91</td>\n",
       "      <td>...</td>\n",
       "      <td>802</td>\n",
       "      <td>57.74</td>\n",
       "      <td>19.38</td>\n",
       "      <td>18.74</td>\n",
       "      <td>0.00</td>\n",
       "      <td>0.0</td>\n",
       "      <td>0.0</td>\n",
       "      <td>0.0</td>\n",
       "      <td>1185.0</td>\n",
       "      <td>1</td>\n",
       "    </tr>\n",
       "    <tr>\n",
       "      <th>8</th>\n",
       "      <td>7001524846</td>\n",
       "      <td>378.721</td>\n",
       "      <td>492.223</td>\n",
       "      <td>137.362</td>\n",
       "      <td>413.69</td>\n",
       "      <td>351.03</td>\n",
       "      <td>35.08</td>\n",
       "      <td>94.66</td>\n",
       "      <td>80.63</td>\n",
       "      <td>136.48</td>\n",
       "      <td>...</td>\n",
       "      <td>315</td>\n",
       "      <td>21.03</td>\n",
       "      <td>910.65</td>\n",
       "      <td>122.16</td>\n",
       "      <td>0.00</td>\n",
       "      <td>0.0</td>\n",
       "      <td>354.0</td>\n",
       "      <td>207.0</td>\n",
       "      <td>696.0</td>\n",
       "      <td>0</td>\n",
       "    </tr>\n",
       "    <tr>\n",
       "      <th>21</th>\n",
       "      <td>7002124215</td>\n",
       "      <td>514.453</td>\n",
       "      <td>597.753</td>\n",
       "      <td>637.760</td>\n",
       "      <td>102.41</td>\n",
       "      <td>132.11</td>\n",
       "      <td>85.14</td>\n",
       "      <td>757.93</td>\n",
       "      <td>896.68</td>\n",
       "      <td>983.39</td>\n",
       "      <td>...</td>\n",
       "      <td>720</td>\n",
       "      <td>0.00</td>\n",
       "      <td>0.00</td>\n",
       "      <td>0.00</td>\n",
       "      <td>0.00</td>\n",
       "      <td>0.0</td>\n",
       "      <td>0.0</td>\n",
       "      <td>0.0</td>\n",
       "      <td>640.0</td>\n",
       "      <td>0</td>\n",
       "    </tr>\n",
       "    <tr>\n",
       "      <th>23</th>\n",
       "      <td>7000887461</td>\n",
       "      <td>74.350</td>\n",
       "      <td>193.897</td>\n",
       "      <td>366.966</td>\n",
       "      <td>48.96</td>\n",
       "      <td>50.66</td>\n",
       "      <td>33.58</td>\n",
       "      <td>85.41</td>\n",
       "      <td>89.36</td>\n",
       "      <td>205.89</td>\n",
       "      <td>...</td>\n",
       "      <td>604</td>\n",
       "      <td>40.45</td>\n",
       "      <td>51.86</td>\n",
       "      <td>0.00</td>\n",
       "      <td>0.00</td>\n",
       "      <td>0.0</td>\n",
       "      <td>712.0</td>\n",
       "      <td>540.0</td>\n",
       "      <td>583.0</td>\n",
       "      <td>0</td>\n",
       "    </tr>\n",
       "  </tbody>\n",
       "</table>\n",
       "<p>5 rows × 125 columns</p>\n",
       "</div>"
      ],
      "text/plain": [
       "    mobile_number    arpu_6    arpu_7    arpu_8  onnet_mou_6  onnet_mou_7  \\\n",
       "0      7000842753   197.385   214.816   213.803         0.00         0.00   \n",
       "7      7000701601  1069.180  1349.850  3171.480        57.84        54.68   \n",
       "8      7001524846   378.721   492.223   137.362       413.69       351.03   \n",
       "21     7002124215   514.453   597.753   637.760       102.41       132.11   \n",
       "23     7000887461    74.350   193.897   366.966        48.96        50.66   \n",
       "\n",
       "    onnet_mou_8  offnet_mou_6  offnet_mou_7  offnet_mou_8  ...  aon  \\\n",
       "0          0.00          0.00          0.00          0.00  ...  968   \n",
       "7         52.29        453.43        567.16        325.91  ...  802   \n",
       "8         35.08         94.66         80.63        136.48  ...  315   \n",
       "21        85.14        757.93        896.68        983.39  ...  720   \n",
       "23        33.58         85.41         89.36        205.89  ...  604   \n",
       "\n",
       "    aug_vbc_3g  jul_vbc_3g  jun_vbc_3g  sep_vbc_3g  total_rech_amt_data_6  \\\n",
       "0        30.40        0.00      101.20        3.58                  252.0   \n",
       "7        57.74       19.38       18.74        0.00                    0.0   \n",
       "8        21.03      910.65      122.16        0.00                    0.0   \n",
       "21        0.00        0.00        0.00        0.00                    0.0   \n",
       "23       40.45       51.86        0.00        0.00                    0.0   \n",
       "\n",
       "    total_rech_amt_data_7  total_rech_amt_data_8  \\\n",
       "0                   252.0                  252.0   \n",
       "7                     0.0                    0.0   \n",
       "8                   354.0                  207.0   \n",
       "21                    0.0                    0.0   \n",
       "23                  712.0                  540.0   \n",
       "\n",
       "    total_avg_rech_amnt_6_7_GPhase  churn  \n",
       "0                            559.0      1  \n",
       "7                           1185.0      1  \n",
       "8                            696.0      0  \n",
       "21                           640.0      0  \n",
       "23                           583.0      0  \n",
       "\n",
       "[5 rows x 125 columns]"
      ]
     },
     "execution_count": 61,
     "metadata": {},
     "output_type": "execute_result"
    }
   ],
   "source": [
    "# Derive new feature by combining most of the columns from month 6 and 7 as they are part of single phase Good\n",
    "telecom_final = telecom_high_val_cust.copy()\n",
    "print(telecom_final.shape)\n",
    "telecom_final.head(5)"
   ]
  },
  {
   "cell_type": "code",
   "execution_count": 62,
   "id": "c699a5ad",
   "metadata": {},
   "outputs": [
    {
     "name": "stdout",
     "output_type": "stream",
     "text": [
      "(29953, 121)\n",
      "arpu\n",
      "onnet_mou\n",
      "offnet_mou\n",
      "roam_ic_mou\n",
      "roam_og_mou\n",
      "loc_og_t2t_mou\n",
      "loc_og_t2m_mou\n",
      "loc_og_t2f_mou\n",
      "loc_og_t2c_mou\n",
      "std_og_t2t_mou\n",
      "std_og_t2m_mou\n",
      "std_og_t2f_mou\n",
      "isd_og_mou\n",
      "spl_og_mou\n",
      "og_others\n",
      "loc_ic_t2t_mou\n",
      "loc_ic_t2m_mou\n",
      "loc_ic_t2f_mou\n",
      "std_ic_t2t_mou\n",
      "std_ic_t2m_mou\n",
      "std_ic_t2f_mou\n",
      "spl_ic_mou\n",
      "isd_ic_mou\n",
      "ic_others\n",
      "total_rech_num\n",
      "total_rech_amt\n",
      "max_rech_amt\n",
      "last_day_rch_amt\n",
      "total_rech_data\n",
      "max_rech_data\n",
      "av_rech_amt_data\n",
      "vol_2g_mb\n",
      "vol_3g_mb\n",
      "monthly_2g\n",
      "sachet_2g\n",
      "monthly_3g\n",
      "sachet_3g\n",
      "total_rech_amt_data\n"
     ]
    }
   ],
   "source": [
    "telecom_final.drop([\"total_avg_rech_amnt_6_7_GPhase\"],axis=1,inplace=True)\n",
    "telecom_final.drop(telecom_high_val_cust.filter(regex='date_').columns,axis=1,inplace=True)\n",
    "print (telecom_final.shape)\n",
    "\n",
    "col_list = telecom_final.filter(regex='_6|_7').columns.str[:-2]\n",
    "for idx, col in enumerate(col_list.unique()):\n",
    "    print(col)\n",
    "    avg_col_name = \"avg_\"+col+\"_av67\"\n",
    "    col_6 = col+\"_6\"\n",
    "    col_7 = col+\"_7\"\n",
    "    telecom_final[avg_col_name] = (telecom_final[col_6]  + telecom_final[col_7])/ 2"
   ]
  },
  {
   "cell_type": "code",
   "execution_count": 63,
   "id": "1fa7f8d5",
   "metadata": {},
   "outputs": [
    {
     "name": "stdout",
     "output_type": "stream",
     "text": [
      "(29953, 83)\n"
     ]
    }
   ],
   "source": [
    "col_list_to_drop = telecom_final.filter(regex='_6|_7')\n",
    "telecom_final.drop(col_list_to_drop,axis=1,inplace=True)\n",
    "print (telecom_final.shape)"
   ]
  },
  {
   "cell_type": "code",
   "execution_count": 64,
   "id": "fc2419b8",
   "metadata": {},
   "outputs": [
    {
     "data": {
      "text/html": [
       "<div>\n",
       "<style scoped>\n",
       "    .dataframe tbody tr th:only-of-type {\n",
       "        vertical-align: middle;\n",
       "    }\n",
       "\n",
       "    .dataframe tbody tr th {\n",
       "        vertical-align: top;\n",
       "    }\n",
       "\n",
       "    .dataframe thead th {\n",
       "        text-align: right;\n",
       "    }\n",
       "</style>\n",
       "<table border=\"1\" class=\"dataframe\">\n",
       "  <thead>\n",
       "    <tr style=\"text-align: right;\">\n",
       "      <th></th>\n",
       "      <th>mobile_number</th>\n",
       "      <th>arpu_8</th>\n",
       "      <th>onnet_mou_8</th>\n",
       "      <th>offnet_mou_8</th>\n",
       "      <th>roam_ic_mou_8</th>\n",
       "      <th>roam_og_mou_8</th>\n",
       "      <th>loc_og_t2t_mou_8</th>\n",
       "      <th>loc_og_t2m_mou_8</th>\n",
       "      <th>loc_og_t2f_mou_8</th>\n",
       "      <th>loc_og_t2c_mou_8</th>\n",
       "      <th>...</th>\n",
       "      <th>avg_total_rech_data_av67</th>\n",
       "      <th>avg_max_rech_data_av67</th>\n",
       "      <th>avg_av_rech_amt_data_av67</th>\n",
       "      <th>avg_vol_2g_mb_av67</th>\n",
       "      <th>avg_vol_3g_mb_av67</th>\n",
       "      <th>avg_monthly_2g_av67</th>\n",
       "      <th>avg_sachet_2g_av67</th>\n",
       "      <th>avg_monthly_3g_av67</th>\n",
       "      <th>avg_sachet_3g_av67</th>\n",
       "      <th>avg_total_rech_amt_data_av67</th>\n",
       "    </tr>\n",
       "  </thead>\n",
       "  <tbody>\n",
       "    <tr>\n",
       "      <th>0</th>\n",
       "      <td>7000842753</td>\n",
       "      <td>213.803</td>\n",
       "      <td>0.00</td>\n",
       "      <td>0.00</td>\n",
       "      <td>0.00</td>\n",
       "      <td>0.00</td>\n",
       "      <td>0.00</td>\n",
       "      <td>0.00</td>\n",
       "      <td>0.00</td>\n",
       "      <td>0.00</td>\n",
       "      <td>...</td>\n",
       "      <td>1.0</td>\n",
       "      <td>252.0</td>\n",
       "      <td>252.0</td>\n",
       "      <td>15.725</td>\n",
       "      <td>117.165</td>\n",
       "      <td>0.0</td>\n",
       "      <td>0.0</td>\n",
       "      <td>1.0</td>\n",
       "      <td>0.0</td>\n",
       "      <td>252.0</td>\n",
       "    </tr>\n",
       "    <tr>\n",
       "      <th>7</th>\n",
       "      <td>7000701601</td>\n",
       "      <td>3171.480</td>\n",
       "      <td>52.29</td>\n",
       "      <td>325.91</td>\n",
       "      <td>31.64</td>\n",
       "      <td>38.06</td>\n",
       "      <td>40.28</td>\n",
       "      <td>162.28</td>\n",
       "      <td>53.23</td>\n",
       "      <td>0.00</td>\n",
       "      <td>...</td>\n",
       "      <td>0.0</td>\n",
       "      <td>0.0</td>\n",
       "      <td>0.0</td>\n",
       "      <td>0.000</td>\n",
       "      <td>0.000</td>\n",
       "      <td>0.0</td>\n",
       "      <td>0.0</td>\n",
       "      <td>0.0</td>\n",
       "      <td>0.0</td>\n",
       "      <td>0.0</td>\n",
       "    </tr>\n",
       "    <tr>\n",
       "      <th>8</th>\n",
       "      <td>7001524846</td>\n",
       "      <td>137.362</td>\n",
       "      <td>35.08</td>\n",
       "      <td>136.48</td>\n",
       "      <td>0.00</td>\n",
       "      <td>0.00</td>\n",
       "      <td>12.49</td>\n",
       "      <td>50.54</td>\n",
       "      <td>0.00</td>\n",
       "      <td>7.15</td>\n",
       "      <td>...</td>\n",
       "      <td>1.0</td>\n",
       "      <td>77.0</td>\n",
       "      <td>88.5</td>\n",
       "      <td>178.000</td>\n",
       "      <td>375.475</td>\n",
       "      <td>0.5</td>\n",
       "      <td>0.5</td>\n",
       "      <td>0.0</td>\n",
       "      <td>0.0</td>\n",
       "      <td>177.0</td>\n",
       "    </tr>\n",
       "    <tr>\n",
       "      <th>21</th>\n",
       "      <td>7002124215</td>\n",
       "      <td>637.760</td>\n",
       "      <td>85.14</td>\n",
       "      <td>983.39</td>\n",
       "      <td>0.00</td>\n",
       "      <td>0.00</td>\n",
       "      <td>23.34</td>\n",
       "      <td>104.81</td>\n",
       "      <td>1.58</td>\n",
       "      <td>0.00</td>\n",
       "      <td>...</td>\n",
       "      <td>0.0</td>\n",
       "      <td>0.0</td>\n",
       "      <td>0.0</td>\n",
       "      <td>0.000</td>\n",
       "      <td>0.000</td>\n",
       "      <td>0.0</td>\n",
       "      <td>0.0</td>\n",
       "      <td>0.0</td>\n",
       "      <td>0.0</td>\n",
       "      <td>0.0</td>\n",
       "    </tr>\n",
       "    <tr>\n",
       "      <th>23</th>\n",
       "      <td>7000887461</td>\n",
       "      <td>366.966</td>\n",
       "      <td>33.58</td>\n",
       "      <td>205.89</td>\n",
       "      <td>0.00</td>\n",
       "      <td>0.00</td>\n",
       "      <td>33.58</td>\n",
       "      <td>148.56</td>\n",
       "      <td>0.00</td>\n",
       "      <td>17.71</td>\n",
       "      <td>...</td>\n",
       "      <td>1.0</td>\n",
       "      <td>89.5</td>\n",
       "      <td>178.0</td>\n",
       "      <td>0.240</td>\n",
       "      <td>299.545</td>\n",
       "      <td>0.0</td>\n",
       "      <td>0.0</td>\n",
       "      <td>1.0</td>\n",
       "      <td>0.0</td>\n",
       "      <td>356.0</td>\n",
       "    </tr>\n",
       "  </tbody>\n",
       "</table>\n",
       "<p>5 rows × 83 columns</p>\n",
       "</div>"
      ],
      "text/plain": [
       "    mobile_number    arpu_8  onnet_mou_8  offnet_mou_8  roam_ic_mou_8  \\\n",
       "0      7000842753   213.803         0.00          0.00           0.00   \n",
       "7      7000701601  3171.480        52.29        325.91          31.64   \n",
       "8      7001524846   137.362        35.08        136.48           0.00   \n",
       "21     7002124215   637.760        85.14        983.39           0.00   \n",
       "23     7000887461   366.966        33.58        205.89           0.00   \n",
       "\n",
       "    roam_og_mou_8  loc_og_t2t_mou_8  loc_og_t2m_mou_8  loc_og_t2f_mou_8  \\\n",
       "0            0.00              0.00              0.00              0.00   \n",
       "7           38.06             40.28            162.28             53.23   \n",
       "8            0.00             12.49             50.54              0.00   \n",
       "21           0.00             23.34            104.81              1.58   \n",
       "23           0.00             33.58            148.56              0.00   \n",
       "\n",
       "    loc_og_t2c_mou_8  ...  avg_total_rech_data_av67  avg_max_rech_data_av67  \\\n",
       "0               0.00  ...                       1.0                   252.0   \n",
       "7               0.00  ...                       0.0                     0.0   \n",
       "8               7.15  ...                       1.0                    77.0   \n",
       "21              0.00  ...                       0.0                     0.0   \n",
       "23             17.71  ...                       1.0                    89.5   \n",
       "\n",
       "    avg_av_rech_amt_data_av67  avg_vol_2g_mb_av67  avg_vol_3g_mb_av67  \\\n",
       "0                       252.0              15.725             117.165   \n",
       "7                         0.0               0.000               0.000   \n",
       "8                        88.5             178.000             375.475   \n",
       "21                        0.0               0.000               0.000   \n",
       "23                      178.0               0.240             299.545   \n",
       "\n",
       "    avg_monthly_2g_av67  avg_sachet_2g_av67  avg_monthly_3g_av67  \\\n",
       "0                   0.0                 0.0                  1.0   \n",
       "7                   0.0                 0.0                  0.0   \n",
       "8                   0.5                 0.5                  0.0   \n",
       "21                  0.0                 0.0                  0.0   \n",
       "23                  0.0                 0.0                  1.0   \n",
       "\n",
       "    avg_sachet_3g_av67  avg_total_rech_amt_data_av67  \n",
       "0                  0.0                         252.0  \n",
       "7                  0.0                           0.0  \n",
       "8                  0.0                         177.0  \n",
       "21                 0.0                           0.0  \n",
       "23                 0.0                         356.0  \n",
       "\n",
       "[5 rows x 83 columns]"
      ]
     },
     "execution_count": 64,
     "metadata": {},
     "output_type": "execute_result"
    }
   ],
   "source": [
    "telecom_final.head(5)"
   ]
  },
  {
   "cell_type": "code",
   "execution_count": 65,
   "id": "4790f8f2",
   "metadata": {},
   "outputs": [
    {
     "data": {
      "text/plain": [
       "0     1\n",
       "7     1\n",
       "8     0\n",
       "21    0\n",
       "23    0\n",
       "Name: churn, dtype: int64"
      ]
     },
     "execution_count": 65,
     "metadata": {},
     "output_type": "execute_result"
    }
   ],
   "source": [
    "# Splitting Data into Training and Test Sets\n",
    "from sklearn.model_selection import train_test_split\n",
    "\n",
    "# Putting feature variable to X\n",
    "X = telecom_final.drop(['churn','mobile_number'],axis=1)\n",
    "\n",
    "# Putting response variable to y\n",
    "y = telecom_final['churn']\n",
    "\n",
    "y.head()"
   ]
  },
  {
   "cell_type": "code",
   "execution_count": 66,
   "id": "af790924",
   "metadata": {},
   "outputs": [],
   "source": [
    "scaler = StandardScaler()\n",
    "X_col = X.columns\n",
    "X_scaled = scaler.fit_transform(X)\n",
    "X_scale_final = pd.DataFrame(X_scaled, columns=X_col)"
   ]
  },
  {
   "cell_type": "code",
   "execution_count": 67,
   "id": "d9e4191a",
   "metadata": {},
   "outputs": [],
   "source": [
    "def getTrainTestSplit():\n",
    "    return train_test_split(X_scale_final,y, train_size=0.7,test_size=0.3,random_state=100)"
   ]
  },
  {
   "cell_type": "code",
   "execution_count": 68,
   "id": "8ebab75b",
   "metadata": {},
   "outputs": [],
   "source": [
    "# Splitting the data into train and test\n",
    "X_train, X_test, y_train, y_test = getTrainTestSplit()"
   ]
  },
  {
   "cell_type": "code",
   "execution_count": 69,
   "id": "031ee9f8",
   "metadata": {},
   "outputs": [
    {
     "data": {
      "text/plain": [
       "(20967, 81)"
      ]
     },
     "execution_count": 69,
     "metadata": {},
     "output_type": "execute_result"
    }
   ],
   "source": [
    "# PCA : Principal Component Analysis\n",
    "X_train.shape"
   ]
  },
  {
   "cell_type": "code",
   "execution_count": 70,
   "id": "1febe574",
   "metadata": {},
   "outputs": [],
   "source": [
    "pca = PCA(random_state=42)"
   ]
  },
  {
   "cell_type": "code",
   "execution_count": 71,
   "id": "6257846f",
   "metadata": {},
   "outputs": [
    {
     "data": {
      "text/plain": [
       "PCA(random_state=42)"
      ]
     },
     "execution_count": 71,
     "metadata": {},
     "output_type": "execute_result"
    }
   ],
   "source": [
    "pca.fit(X_train)"
   ]
  },
  {
   "cell_type": "code",
   "execution_count": 72,
   "id": "a8f506ac",
   "metadata": {},
   "outputs": [
    {
     "data": {
      "text/plain": [
       "array([[ 1.36146202e-02, -1.02688278e-01, -9.78458693e-02, ...,\n",
       "         2.24253524e-01,  8.98463003e-02,  2.02710350e-01],\n",
       "       [ 3.06226204e-01,  1.11137752e-01,  2.08220096e-01, ...,\n",
       "         7.52752519e-02, -5.34397920e-02, -5.29469974e-02],\n",
       "       [ 1.54487177e-01,  1.12975662e-01,  1.15993408e-01, ...,\n",
       "        -3.11003403e-02,  1.66301206e-01,  2.08939762e-01],\n",
       "       ...,\n",
       "       [ 1.54270804e-03,  3.07392232e-01,  3.14328213e-01, ...,\n",
       "         2.41672919e-04,  1.67468085e-05, -3.67824139e-05],\n",
       "       [-1.32885183e-16, -2.33509945e-15, -7.91328642e-16, ...,\n",
       "         8.94746700e-02,  1.48520262e-01, -6.41693634e-17],\n",
       "       [-0.00000000e+00, -1.02996306e-14, -8.74331029e-15, ...,\n",
       "        -1.20187668e-01, -1.99501199e-01, -1.17712560e-16]])"
      ]
     },
     "execution_count": 72,
     "metadata": {},
     "output_type": "execute_result"
    }
   ],
   "source": [
    "# Components from the PCA\n",
    "pca.components_"
   ]
  },
  {
   "cell_type": "code",
   "execution_count": 73,
   "id": "cf57545b",
   "metadata": {},
   "outputs": [
    {
     "data": {
      "text/plain": [
       "array([1.03559838e-01, 9.55089083e-02, 6.35861149e-02, 4.62630567e-02,\n",
       "       3.91373881e-02, 3.65774904e-02, 3.32217606e-02, 3.08775096e-02,\n",
       "       2.92649254e-02, 2.76925388e-02, 2.69932786e-02, 2.47399900e-02,\n",
       "       2.37060643e-02, 2.11333613e-02, 2.03513261e-02, 1.86179552e-02,\n",
       "       1.76419601e-02, 1.67595105e-02, 1.58622445e-02, 1.52725168e-02,\n",
       "       1.46651759e-02, 1.43137143e-02, 1.35993050e-02, 1.27916457e-02,\n",
       "       1.18766558e-02, 1.13510983e-02, 1.11468054e-02, 1.06742586e-02,\n",
       "       1.00600842e-02, 9.90182011e-03, 9.45442124e-03, 9.33933784e-03,\n",
       "       9.16839612e-03, 9.04380332e-03, 8.71135526e-03, 8.43997795e-03,\n",
       "       7.52124754e-03, 6.90424069e-03, 6.57915230e-03, 6.07470850e-03,\n",
       "       5.43281499e-03, 5.35292043e-03, 4.43210551e-03, 4.34212966e-03,\n",
       "       4.24292411e-03, 4.06049588e-03, 3.80408605e-03, 3.77412745e-03,\n",
       "       3.54039555e-03, 3.33159199e-03, 3.31096670e-03, 3.21398405e-03,\n",
       "       3.14352775e-03, 3.10550703e-03, 3.00193067e-03, 2.82903744e-03,\n",
       "       2.82121402e-03, 2.68092322e-03, 2.57116068e-03, 2.50085951e-03,\n",
       "       2.46799403e-03, 2.34382619e-03, 2.09720451e-03, 2.03910846e-03,\n",
       "       1.80754084e-03, 1.75016520e-03, 1.56995826e-03, 1.22940462e-03,\n",
       "       1.15180871e-03, 1.06094692e-03, 9.86362860e-04, 4.88390953e-04,\n",
       "       4.36042651e-04, 3.68486331e-04, 2.45082925e-04, 5.49920299e-05,\n",
       "       2.34476001e-05, 1.29332274e-06, 2.98342314e-07, 2.04235770e-32,\n",
       "       2.37341039e-33])"
      ]
     },
     "execution_count": 73,
     "metadata": {},
     "output_type": "execute_result"
    }
   ],
   "source": [
    "pca.explained_variance_ratio_"
   ]
  },
  {
   "cell_type": "code",
   "execution_count": 74,
   "id": "f8dc96c9",
   "metadata": {},
   "outputs": [],
   "source": [
    "var_cumu = np.cumsum(pca.explained_variance_ratio_)"
   ]
  },
  {
   "cell_type": "code",
   "execution_count": 75,
   "id": "c9f52f31",
   "metadata": {},
   "outputs": [
    {
     "data": {
      "image/png": "[encoded data removed]",
      "text/plain": [
       "<Figure size 864x576 with 1 Axes>"
      ]
     },
     "metadata": {
      "needs_background": "light"
     },
     "output_type": "display_data"
    }
   ],
   "source": [
    "# Making a scree plot for the explained variance\n",
    "fig = plt.figure(figsize=[12,8])\n",
    "plt.vlines(x=40, ymax=1, ymin=0, colors=\"r\", linestyles=\"--\")\n",
    "plt.hlines(y=0.95, xmax=100, xmin=0, colors=\"g\", linestyles=\"--\")\n",
    "plt.plot(var_cumu)\n",
    "plt.ylabel(\"Cumulative variance explained\")\n",
    "plt.show()"
   ]
  },
  {
   "cell_type": "code",
   "execution_count": 76,
   "id": "c353eb7b",
   "metadata": {},
   "outputs": [],
   "source": [
    "# Looks like 45 components are enough to describe 95% of the variance in the dataset.We'll choose 45 components for our modeling\n",
    "pca_final = IncrementalPCA(n_components=45)"
   ]
  },
  {
   "cell_type": "code",
   "execution_count": 77,
   "id": "20aae848",
   "metadata": {},
   "outputs": [],
   "source": [
    "df_train_pca = pca_final.fit_transform(X_train)"
   ]
  },
  {
   "cell_type": "code",
   "execution_count": 78,
   "id": "bf2dabb6",
   "metadata": {},
   "outputs": [
    {
     "data": {
      "text/plain": [
       "(20967, 45)"
      ]
     },
     "execution_count": 78,
     "metadata": {},
     "output_type": "execute_result"
    }
   ],
   "source": [
    "df_train_pca.shape"
   ]
  },
  {
   "cell_type": "code",
   "execution_count": 79,
   "id": "0e5a96c8",
   "metadata": {},
   "outputs": [
    {
     "data": {
      "text/plain": [
       "(8986, 45)"
      ]
     },
     "execution_count": 79,
     "metadata": {},
     "output_type": "execute_result"
    }
   ],
   "source": [
    "# Applying the transformation on the test set\n",
    "df_test_pca = pca_final.transform(X_test)\n",
    "df_test_pca.shape"
   ]
  },
  {
   "cell_type": "code",
   "execution_count": 80,
   "id": "3fd11da8",
   "metadata": {},
   "outputs": [],
   "source": [
    "# Applying logistic regression on the data from our Principal components\n",
    "learner_pca = LogisticRegression()"
   ]
  },
  {
   "cell_type": "code",
   "execution_count": 81,
   "id": "6d08c043",
   "metadata": {},
   "outputs": [],
   "source": [
    "model_pca = learner_pca.fit(df_train_pca, y_train)"
   ]
  },
  {
   "cell_type": "code",
   "execution_count": 82,
   "id": "50c77b05",
   "metadata": {},
   "outputs": [],
   "source": [
    "pred_probs_test = model_pca.predict_proba(df_test_pca)"
   ]
  },
  {
   "cell_type": "code",
   "execution_count": 83,
   "id": "3286cc82",
   "metadata": {},
   "outputs": [],
   "source": [
    "df_y_pred = model_pca.predict(df_test_pca)"
   ]
  },
  {
   "cell_type": "code",
   "execution_count": 84,
   "id": "820e51e9",
   "metadata": {},
   "outputs": [
    {
     "name": "stdout",
     "output_type": "stream",
     "text": [
      "\n",
      "-----------------------  Confusion Matrix --------------------- \n",
      "[[8213   92]\n",
      " [ 519  162]]\n",
      "\n",
      "-----------------------  Classification Report ---------------------\n",
      "              precision    recall  f1-score   support\n",
      "\n",
      "           0       0.94      0.99      0.96      8305\n",
      "           1       0.64      0.24      0.35       681\n",
      "\n",
      "    accuracy                           0.93      8986\n",
      "   macro avg       0.79      0.61      0.66      8986\n",
      "weighted avg       0.92      0.93      0.92      8986\n",
      "\n",
      "\n",
      " -----------------------  Accuracy Score ---------------------\n",
      "0.9320053416425551\n"
     ]
    }
   ],
   "source": [
    "# Importing classification report and confusion matrix from sklearn metrics\n",
    "from sklearn.metrics import classification_report,confusion_matrix, accuracy_score\n",
    "\n",
    "print(\"\\n-----------------------  Confusion Matrix --------------------- \")\n",
    "print(confusion_matrix(y_test, df_y_pred))\n",
    "print(\"\\n-----------------------  Classification Report ---------------------\")\n",
    "print(classification_report(y_test, df_y_pred))\n",
    "print(\"\\n -----------------------  Accuracy Score ---------------------\")\n",
    "print(accuracy_score(y_test, df_y_pred))"
   ]
  },
  {
   "cell_type": "code",
   "execution_count": 85,
   "id": "be8f75bf",
   "metadata": {},
   "outputs": [
    {
     "data": {
      "text/plain": [
       "(20967, 81)"
      ]
     },
     "execution_count": 85,
     "metadata": {},
     "output_type": "execute_result"
    }
   ],
   "source": [
    "# Random Forest\n",
    "# Let's first fit a random forest model with default hyperparameters.\n",
    "X_train.shape"
   ]
  },
  {
   "cell_type": "code",
   "execution_count": 86,
   "id": "df8187d5",
   "metadata": {},
   "outputs": [],
   "source": [
    "# Default Hyperparameters\n",
    "# Importing random forest classifier from sklearn library\n",
    "from sklearn.ensemble import RandomForestClassifier\n",
    "\n",
    "# Running the random forest with default parameters.\n",
    "rfc = RandomForestClassifier()"
   ]
  },
  {
   "cell_type": "code",
   "execution_count": 87,
   "id": "a92c8a1d",
   "metadata": {},
   "outputs": [
    {
     "data": {
      "text/plain": [
       "RandomForestClassifier()"
      ]
     },
     "execution_count": 87,
     "metadata": {},
     "output_type": "execute_result"
    }
   ],
   "source": [
    "# fit\n",
    "rfc.fit(X_train,y_train)"
   ]
  },
  {
   "cell_type": "code",
   "execution_count": 88,
   "id": "c329125a",
   "metadata": {},
   "outputs": [],
   "source": [
    "# Making predictions\n",
    "predictions = rfc.predict(X_test)"
   ]
  },
  {
   "cell_type": "code",
   "execution_count": 89,
   "id": "ff82e0af",
   "metadata": {},
   "outputs": [],
   "source": [
    "# Importing classification report and confusion matrix from sklearn metrics\n",
    "from sklearn.metrics import classification_report,confusion_matrix, accuracy_score"
   ]
  },
  {
   "cell_type": "code",
   "execution_count": 90,
   "id": "8ca6acba",
   "metadata": {},
   "outputs": [
    {
     "name": "stdout",
     "output_type": "stream",
     "text": [
      "              precision    recall  f1-score   support\n",
      "\n",
      "           0       0.96      0.99      0.97      8305\n",
      "           1       0.76      0.45      0.56       681\n",
      "\n",
      "    accuracy                           0.95      8986\n",
      "   macro avg       0.86      0.72      0.77      8986\n",
      "weighted avg       0.94      0.95      0.94      8986\n",
      "\n"
     ]
    }
   ],
   "source": [
    "# Let's check the report of our default model\n",
    "print(classification_report(y_test,predictions))"
   ]
  },
  {
   "cell_type": "code",
   "execution_count": 91,
   "id": "47b838d7",
   "metadata": {},
   "outputs": [
    {
     "name": "stdout",
     "output_type": "stream",
     "text": [
      "[[8207   98]\n",
      " [ 375  306]]\n"
     ]
    }
   ],
   "source": [
    "# Confusion matrix\n",
    "# Printing confusion matrix\n",
    "print(confusion_matrix(y_test,predictions))"
   ]
  },
  {
   "cell_type": "code",
   "execution_count": 92,
   "id": "c0c8e4ed",
   "metadata": {},
   "outputs": [
    {
     "name": "stdout",
     "output_type": "stream",
     "text": [
      "0.9473625639884264\n"
     ]
    }
   ],
   "source": [
    "print(accuracy_score(y_test,predictions))"
   ]
  },
  {
   "cell_type": "code",
   "execution_count": 93,
   "id": "573789e4",
   "metadata": {},
   "outputs": [],
   "source": [
    "# Paramater Tuning.\n",
    "# Let's tune few hyper parameters to see if there is any improvement in the overall performance of the model.\n",
    "from sklearn.model_selection import KFold\n",
    "from sklearn.model_selection import GridSearchCV\n",
    "\n",
    "\n",
    "# Folds for k-fold CV\n",
    "n_folds = 5\n",
    "\n",
    "## Lets define a generic method to tune different parameters.\n",
    "def tune_model_with_parameter(param) :\n",
    "    rf = RandomForestClassifier()\n",
    "    \n",
    "    rf = GridSearchCV(rf, param, \n",
    "                    cv=n_folds, \n",
    "                   scoring=\"accuracy\",\n",
    "                  return_train_score=True)\n",
    "    rf.fit(X_train, y_train)\n",
    "    return rf\n",
    "\n",
    "## We will also define a method to plot the graph of model after tuning\n",
    "def plot_the_model_performance_after_tuning(modelParam, model, results):\n",
    "    # plotting accuracies with given param\n",
    "    plt.figure()\n",
    "    plt.plot(results[modelParam], \n",
    "             results[\"mean_train_score\"], \n",
    "             label=\"training accuracy\")\n",
    "    plt.plot(results[modelParam], \n",
    "             results[\"mean_test_score\"], \n",
    "             label=\"test accuracy\")\n",
    "    plt.xlabel(modelParam)\n",
    "    plt.ylabel(\"Accuracy\")\n",
    "    plt.legend()\n",
    "    plt.show()"
   ]
  },
  {
   "cell_type": "code",
   "execution_count": 94,
   "id": "8cda7f50",
   "metadata": {},
   "outputs": [
    {
     "data": {
      "image/png": "[encoded data removed]",
      "text/plain": [
       "<Figure size 432x288 with 1 Axes>"
      ]
     },
     "metadata": {
      "needs_background": "light"
     },
     "output_type": "display_data"
    }
   ],
   "source": [
    "#let's try to tune max_depth first.\n",
    "params = {'max_depth': range(1, 15, 5)}\n",
    "rf = tune_model_with_parameter(params)\n",
    "results = rf.cv_results_\n",
    "plot_the_model_performance_after_tuning(\"param_max_depth\", rf, results)"
   ]
  },
  {
   "cell_type": "code",
   "execution_count": 95,
   "id": "9473638d",
   "metadata": {},
   "outputs": [
    {
     "data": {
      "image/png": "[encoded data removed]",
      "text/plain": [
       "<Figure size 432x288 with 1 Axes>"
      ]
     },
     "metadata": {
      "needs_background": "light"
     },
     "output_type": "display_data"
    }
   ],
   "source": [
    "# Analysis: We can see that as we increase the value of max_depth, both train and test scores increase till a point, but after that test score becomme stagnant. The ensemble tries to overfit as we increase the max_depth. Thus, controlling the depth of the constituent trees will help reduce overfitting in the forest. 6 value has peek convergens and can be used for grid veiw search.\n",
    "#let's try optimize the min_samples_leaf to control depth of the tree\n",
    "params = {'min_samples_leaf': range(40, 400, 20)}\n",
    "rf = tune_model_with_parameter(params)\n",
    "results = rf.cv_results_\n",
    "plot_the_model_performance_after_tuning(\"param_min_samples_leaf\", rf, results)"
   ]
  },
  {
   "cell_type": "code",
   "execution_count": 96,
   "id": "695538b5",
   "metadata": {},
   "outputs": [
    {
     "data": {
      "image/png": "[encoded data removed]",
      "text/plain": [
       "<Figure size 432x288 with 1 Axes>"
      ]
     },
     "metadata": {
      "needs_background": "light"
     },
     "output_type": "display_data"
    }
   ],
   "source": [
    "# Analysis: We can see that the model starts to overfit as value is decrease the value of min_samples_leaf. 100 seems to be a good range and that will be used in grid search.\n",
    "#Finally let's also try optimize the minimum samples in each node by tuning min_samples_split\n",
    "params = {'min_samples_split': range(100, 500, 25)}\n",
    "rf = tune_model_with_parameter(params)\n",
    "results = rf.cv_results_\n",
    "plot_the_model_performance_after_tuning(\"param_min_samples_split\", rf, results)"
   ]
  },
  {
   "cell_type": "code",
   "execution_count": 97,
   "id": "5b543882",
   "metadata": {},
   "outputs": [],
   "source": [
    "# Analysis: Score almost remain the same with very low dip throught the range. We will use 1000 for grid view search.\n",
    "# Based on the graphs from above we know appropriate params for the properties. \n",
    "from sklearn.ensemble import RandomForestClassifier\n",
    "from sklearn import metrics\n",
    "X_train, X_test, y_train, y_test = getTrainTestSplit()\n",
    "\n",
    "final_model_rf = RandomForestClassifier(bootstrap=True,\n",
    "                                  max_depth=6,\n",
    "                                  min_samples_leaf=100, \n",
    "                                  min_samples_split=150,\n",
    "                                  n_estimators=1000,\n",
    "                                  oob_score = True, n_jobs = -1,\n",
    "                                  random_state =10,\n",
    "                                  max_features = 20,\n",
    "                                  max_leaf_nodes = 30)\n",
    "final_model_rf.fit(X_train, y_train)\n",
    "\n",
    "# Make predictions\n",
    "prediction_test = final_model_rf.predict(X_test)"
   ]
  },
  {
   "cell_type": "code",
   "execution_count": 98,
   "id": "3f092a9d",
   "metadata": {},
   "outputs": [
    {
     "name": "stdout",
     "output_type": "stream",
     "text": [
      "\n",
      "-----------------------  Confusion Matrix --------------------- \n",
      "[[8213   92]\n",
      " [ 519  162]]\n",
      "\n",
      "-----------------------  Classification Report ---------------------\n",
      "              precision    recall  f1-score   support\n",
      "\n",
      "           0       0.94      0.99      0.96      8305\n",
      "           1       0.64      0.24      0.35       681\n",
      "\n",
      "    accuracy                           0.93      8986\n",
      "   macro avg       0.79      0.61      0.66      8986\n",
      "weighted avg       0.92      0.93      0.92      8986\n",
      "\n",
      "\n",
      " -----------------------  Accuracy Score ---------------------\n",
      "0.9320053416425551\n"
     ]
    }
   ],
   "source": [
    "# Importing classification report and confusion matrix from sklearn metrics\n",
    "from sklearn.metrics import classification_report,confusion_matrix, accuracy_score\n",
    "\n",
    "print(\"\\n-----------------------  Confusion Matrix --------------------- \")\n",
    "print(confusion_matrix(y_test, df_y_pred))\n",
    "print(\"\\n-----------------------  Classification Report ---------------------\")\n",
    "print(classification_report(y_test, df_y_pred))\n",
    "print(\"\\n -----------------------  Accuracy Score ---------------------\")\n",
    "print(accuracy_score(y_test, df_y_pred))"
   ]
  },
  {
   "cell_type": "code",
   "execution_count": 99,
   "id": "d2cdf8f8",
   "metadata": {
    "scrolled": true
   },
   "outputs": [
    {
     "data": {
      "text/plain": [
       "<AxesSubplot:>"
      ]
     },
     "execution_count": 99,
     "metadata": {},
     "output_type": "execute_result"
    },
    {
     "data": {
      "image/png": "[encoded data removed]",
      "text/plain": [
       "<Figure size 432x288 with 1 Axes>"
      ]
     },
     "metadata": {
      "needs_background": "light"
     },
     "output_type": "display_data"
    }
   ],
   "source": [
    "importances = final_model_rf.feature_importances_\n",
    "weights = pd.Series(importances,\n",
    "                 index=X_train.columns.values)\n",
    "weights.sort_values()[-10:].plot(kind = 'barh')"
   ]
  },
  {
   "cell_type": "code",
   "execution_count": 100,
   "id": "e21bd5f2",
   "metadata": {},
   "outputs": [
    {
     "name": "stdout",
     "output_type": "stream",
     "text": [
      "Important features ...\n"
     ]
    },
    {
     "data": {
      "image/png": "[encoded data removed]",
      "text/plain": [
       "<Figure size 432x288 with 1 Axes>"
      ]
     },
     "metadata": {
      "needs_background": "light"
     },
     "output_type": "display_data"
    },
    {
     "data": {
      "text/html": [
       "<div>\n",
       "<style scoped>\n",
       "    .dataframe tbody tr th:only-of-type {\n",
       "        vertical-align: middle;\n",
       "    }\n",
       "\n",
       "    .dataframe tbody tr th {\n",
       "        vertical-align: top;\n",
       "    }\n",
       "\n",
       "    .dataframe thead th {\n",
       "        text-align: right;\n",
       "    }\n",
       "</style>\n",
       "<table border=\"1\" class=\"dataframe\">\n",
       "  <thead>\n",
       "    <tr style=\"text-align: right;\">\n",
       "      <th></th>\n",
       "      <th>PC1</th>\n",
       "      <th>PC2</th>\n",
       "      <th>PC3</th>\n",
       "      <th>Feature</th>\n",
       "    </tr>\n",
       "  </thead>\n",
       "  <tbody>\n",
       "    <tr>\n",
       "      <th>0</th>\n",
       "      <td>0.013615</td>\n",
       "      <td>0.306226</td>\n",
       "      <td>0.154487</td>\n",
       "      <td>arpu_8</td>\n",
       "    </tr>\n",
       "    <tr>\n",
       "      <th>1</th>\n",
       "      <td>-0.102688</td>\n",
       "      <td>0.111138</td>\n",
       "      <td>0.112976</td>\n",
       "      <td>onnet_mou_8</td>\n",
       "    </tr>\n",
       "    <tr>\n",
       "      <th>2</th>\n",
       "      <td>-0.097846</td>\n",
       "      <td>0.208220</td>\n",
       "      <td>0.115993</td>\n",
       "      <td>offnet_mou_8</td>\n",
       "    </tr>\n",
       "    <tr>\n",
       "      <th>3</th>\n",
       "      <td>-0.006749</td>\n",
       "      <td>0.052390</td>\n",
       "      <td>0.001505</td>\n",
       "      <td>roam_ic_mou_8</td>\n",
       "    </tr>\n",
       "    <tr>\n",
       "      <th>4</th>\n",
       "      <td>-0.021590</td>\n",
       "      <td>0.062553</td>\n",
       "      <td>0.023639</td>\n",
       "      <td>roam_og_mou_8</td>\n",
       "    </tr>\n",
       "    <tr>\n",
       "      <th>5</th>\n",
       "      <td>-0.020451</td>\n",
       "      <td>0.089581</td>\n",
       "      <td>0.006271</td>\n",
       "      <td>loc_og_t2t_mou_8</td>\n",
       "    </tr>\n",
       "    <tr>\n",
       "      <th>6</th>\n",
       "      <td>-0.022742</td>\n",
       "      <td>0.167355</td>\n",
       "      <td>-0.034601</td>\n",
       "      <td>loc_og_t2m_mou_8</td>\n",
       "    </tr>\n",
       "    <tr>\n",
       "      <th>7</th>\n",
       "      <td>0.011691</td>\n",
       "      <td>0.100447</td>\n",
       "      <td>-0.094795</td>\n",
       "      <td>loc_og_t2f_mou_8</td>\n",
       "    </tr>\n",
       "    <tr>\n",
       "      <th>8</th>\n",
       "      <td>-0.016508</td>\n",
       "      <td>0.018951</td>\n",
       "      <td>0.084266</td>\n",
       "      <td>loc_og_t2c_mou_8</td>\n",
       "    </tr>\n",
       "    <tr>\n",
       "      <th>9</th>\n",
       "      <td>-0.104055</td>\n",
       "      <td>0.072047</td>\n",
       "      <td>0.124452</td>\n",
       "      <td>std_og_t2t_mou_8</td>\n",
       "    </tr>\n",
       "    <tr>\n",
       "      <th>10</th>\n",
       "      <td>-0.099414</td>\n",
       "      <td>0.114151</td>\n",
       "      <td>0.143723</td>\n",
       "      <td>std_og_t2m_mou_8</td>\n",
       "    </tr>\n",
       "    <tr>\n",
       "      <th>11</th>\n",
       "      <td>0.005482</td>\n",
       "      <td>0.054589</td>\n",
       "      <td>-0.054840</td>\n",
       "      <td>std_og_t2f_mou_8</td>\n",
       "    </tr>\n",
       "    <tr>\n",
       "      <th>12</th>\n",
       "      <td>0.002204</td>\n",
       "      <td>0.157993</td>\n",
       "      <td>0.100094</td>\n",
       "      <td>isd_og_mou_8</td>\n",
       "    </tr>\n",
       "    <tr>\n",
       "      <th>13</th>\n",
       "      <td>-0.031432</td>\n",
       "      <td>0.034373</td>\n",
       "      <td>0.112844</td>\n",
       "      <td>spl_og_mou_8</td>\n",
       "    </tr>\n",
       "    <tr>\n",
       "      <th>14</th>\n",
       "      <td>-0.001759</td>\n",
       "      <td>0.002362</td>\n",
       "      <td>0.001777</td>\n",
       "      <td>og_others_8</td>\n",
       "    </tr>\n",
       "  </tbody>\n",
       "</table>\n",
       "</div>"
      ],
      "text/plain": [
       "         PC1       PC2       PC3           Feature\n",
       "0   0.013615  0.306226  0.154487            arpu_8\n",
       "1  -0.102688  0.111138  0.112976       onnet_mou_8\n",
       "2  -0.097846  0.208220  0.115993      offnet_mou_8\n",
       "3  -0.006749  0.052390  0.001505     roam_ic_mou_8\n",
       "4  -0.021590  0.062553  0.023639     roam_og_mou_8\n",
       "5  -0.020451  0.089581  0.006271  loc_og_t2t_mou_8\n",
       "6  -0.022742  0.167355 -0.034601  loc_og_t2m_mou_8\n",
       "7   0.011691  0.100447 -0.094795  loc_og_t2f_mou_8\n",
       "8  -0.016508  0.018951  0.084266  loc_og_t2c_mou_8\n",
       "9  -0.104055  0.072047  0.124452  std_og_t2t_mou_8\n",
       "10 -0.099414  0.114151  0.143723  std_og_t2m_mou_8\n",
       "11  0.005482  0.054589 -0.054840  std_og_t2f_mou_8\n",
       "12  0.002204  0.157993  0.100094      isd_og_mou_8\n",
       "13 -0.031432  0.034373  0.112844      spl_og_mou_8\n",
       "14 -0.001759  0.002362  0.001777       og_others_8"
      ]
     },
     "execution_count": 100,
     "metadata": {},
     "output_type": "execute_result"
    }
   ],
   "source": [
    "print(\"Important features ...\")\n",
    "plt.figure(figsize=(6,4))\n",
    "sns.countplot(x = 'tenure_range', hue = 'churn',data = tenure_data,palette=(\"plasma\"))\n",
    "plt.show()\n",
    "\n",
    "\n",
    "col = list(X_scale_final.columns)\n",
    "df_pca = pd.DataFrame({'PC1':pca.components_[0],'PC2':pca.components_[1], 'PC3':pca.components_[2],'Feature':col})\n",
    "df_pca.head(15)"
   ]
  }
 ],
 "metadata": {
  "kernelspec": {
   "display_name": "Python 3 (ipykernel)",
   "language": "python",
   "name": "python3"
  },
  "language_info": {
   "codemirror_mode": {
    "name": "ipython",
    "version": 3
   },
   "file_extension": ".py",
   "mimetype": "text/x-python",
   "name": "python",
   "nbconvert_exporter": "python",
   "pygments_lexer": "ipython3",
   "version": "3.9.12"
  }
 },
 "nbformat": 4,
 "nbformat_minor": 5
}
